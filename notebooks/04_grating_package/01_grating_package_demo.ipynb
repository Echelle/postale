{
 "cells": [
  {
   "cell_type": "markdown",
   "id": "21987545",
   "metadata": {},
   "source": [
    "# Demo of using the object-oriented Python grating package `postale`\n",
    "\n",
    "Here we see how to use the experimental new Python package."
   ]
  },
  {
   "cell_type": "code",
   "execution_count": 1,
   "id": "840524dc",
   "metadata": {},
   "outputs": [],
   "source": [
    "import numpy as np"
   ]
  },
  {
   "cell_type": "code",
   "execution_count": 2,
   "id": "8cd7d4f1",
   "metadata": {},
   "outputs": [],
   "source": [
    "from postale.silicon import SiliconGrating"
   ]
  },
  {
   "cell_type": "code",
   "execution_count": 3,
   "id": "108200cb",
   "metadata": {},
   "outputs": [],
   "source": [
    "grating = SiliconGrating(sigma=27.36, groove_top=9.95, blaze_angle=71.52, \n",
    "                         apex_angle=70.53, incidence_angle=72.3, wavelength=0.6328, immersion=False)"
   ]
  },
  {
   "cell_type": "code",
   "execution_count": 4,
   "id": "cb1e66b0",
   "metadata": {},
   "outputs": [
    {
     "data": {
      "text/plain": [
       "86.0"
      ]
     },
     "execution_count": 4,
     "metadata": {},
     "output_type": "execute_result"
    }
   ],
   "source": [
    "grating.max_m"
   ]
  },
  {
   "cell_type": "code",
   "execution_count": 5,
   "id": "4abc8283",
   "metadata": {},
   "outputs": [
    {
     "data": {
      "text/plain": [
       "array([-86., -85., -84., -83., -82., -81., -80., -79., -78., -77., -76.,\n",
       "       -75., -74., -73., -72., -71., -70., -69., -68., -67., -66., -65.,\n",
       "       -64., -63., -62., -61., -60., -59., -58., -57., -56., -55., -54.,\n",
       "       -53., -52., -51., -50., -49., -48., -47., -46., -45., -44., -43.,\n",
       "       -42., -41., -40., -39., -38., -37., -36., -35., -34., -33., -32.,\n",
       "       -31., -30., -29., -28., -27., -26., -25., -24., -23., -22., -21.,\n",
       "       -20., -19., -18., -17., -16., -15., -14., -13., -12., -11., -10.,\n",
       "        -9.,  -8.,  -7.,  -6.,  -5.,  -4.,  -3.,  -2.,  -1.,   0.,   1.,\n",
       "         2.,   3.,   4.,   5.,   6.,   7.,   8.,   9.,  10.,  11.,  12.,\n",
       "        13.,  14.,  15.,  16.,  17.,  18.,  19.,  20.,  21.,  22.,  23.,\n",
       "        24.,  25.,  26.,  27.,  28.,  29.,  30.,  31.,  32.,  33.,  34.,\n",
       "        35.,  36.,  37.,  38.,  39.,  40.,  41.,  42.,  43.,  44.,  45.,\n",
       "        46.,  47.,  48.,  49.,  50.,  51.,  52.,  53.,  54.,  55.,  56.,\n",
       "        57.,  58.,  59.,  60.,  61.,  62.,  63.,  64.,  65.,  66.,  67.,\n",
       "        68.,  69.,  70.,  71.,  72.,  73.,  74.,  75.,  76.,  77.,  78.,\n",
       "        79.,  80.,  81.,  82.,  83.,  84.,  85.,  86.])"
      ]
     },
     "execution_count": 5,
     "metadata": {},
     "output_type": "execute_result"
    }
   ],
   "source": [
    "grating.m_vector"
   ]
  },
  {
   "cell_type": "code",
   "execution_count": 6,
   "id": "349fa109",
   "metadata": {},
   "outputs": [
    {
     "name": "stderr",
     "output_type": "stream",
     "text": [
      "/Users/mag3842/GitHub/postale/src/postale/silicon.py:82: RuntimeWarning: invalid value encountered in arcsin\n",
      "  theta_m_radians = np.arcsin(\n"
     ]
    },
    {
     "data": {
      "text/plain": [
       "array([  nan,   nan,   nan,   nan,   nan,   nan,   nan,   nan,   nan,\n",
       "         nan,   nan,   nan,   nan,   nan,   nan,   nan,   nan,   nan,\n",
       "         nan,   nan,   nan,   nan,   nan,   nan,   nan,   nan,   nan,\n",
       "         nan,   nan,   nan,   nan,   nan,   nan,   nan,   nan,   nan,\n",
       "         nan,   nan,   nan,   nan,   nan,   nan,   nan,   nan,   nan,\n",
       "         nan,   nan,   nan,   nan,   nan,   nan,   nan,   nan,   nan,\n",
       "         nan,   nan,   nan,   nan,   nan,   nan,   nan,   nan,   nan,\n",
       "         nan,   nan,   nan,   nan,   nan,   nan,   nan,   nan,   nan,\n",
       "         nan,   nan,   nan,   nan,   nan,   nan,   nan,   nan,   nan,\n",
       "         nan,   nan,   nan,  87.3,  77.4,  72.3,  68.4,  65. ,  62. ,\n",
       "        59.3,  56.8,  54.5,  52.3,  50.1,  48.1,  46.2,  44.3,  42.5,\n",
       "        40.7,  39. ,  37.3,  35.6,  34. ,  32.4,  30.9,  29.3,  27.8,\n",
       "        26.3,  24.9,  23.4,  22. ,  20.6,  19.2,  17.8,  16.4,  15. ,\n",
       "        13.6,  12.3,  10.9,   9.6,   8.2,   6.9,   5.6,   4.2,   2.9,\n",
       "         1.6,   0.3,  -1.1,  -2.4,  -3.7,  -5.1,  -6.4,  -7.7,  -9.1,\n",
       "       -10.4, -11.8, -13.1, -14.5, -15.9, -17.2, -18.6, -20. , -21.4,\n",
       "       -22.9, -24.3, -25.8, -27.3, -28.8, -30.3, -31.8, -33.4, -35. ,\n",
       "       -36.7, -38.3, -40. , -41.8, -43.6, -45.4, -47.4, -49.4, -51.4,\n",
       "       -53.6, -55.9, -58.4, -61. , -63.8, -67. , -70.7, -75.2, -81.9,\n",
       "         nan,   nan])"
      ]
     },
     "execution_count": 6,
     "metadata": {},
     "output_type": "execute_result"
    }
   ],
   "source": [
    "np.round(grating.diffracted_angles_degrees, 1)"
   ]
  },
  {
   "cell_type": "code",
   "execution_count": 7,
   "id": "5704dbe4",
   "metadata": {},
   "outputs": [
    {
     "data": {
      "text/plain": [
       "array([-2., -1.,  0.,  1.,  2.,  3.,  4.,  5.,  6.,  7.,  8.,  9., 10.,\n",
       "       11., 12., 13., 14., 15., 16., 17., 18., 19., 20., 21., 22., 23.,\n",
       "       24., 25., 26., 27., 28., 29., 30., 31., 32., 33., 34., 35., 36.,\n",
       "       37., 38., 39., 40., 41., 42., 43., 44., 45., 46., 47., 48., 49.,\n",
       "       50., 51., 52., 53., 54., 55., 56., 57., 58., 59., 60., 61., 62.,\n",
       "       63., 64., 65., 66., 67., 68., 69., 70., 71., 72., 73., 74., 75.,\n",
       "       76., 77., 78., 79., 80., 81., 82., 83., 84.])"
      ]
     },
     "execution_count": 7,
     "metadata": {},
     "output_type": "execute_result"
    }
   ],
   "source": [
    "grating.available_orders"
   ]
  }
 ],
 "metadata": {
  "kernelspec": {
   "display_name": "Python 3 (ipykernel)",
   "language": "python",
   "name": "python3"
  },
  "language_info": {
   "codemirror_mode": {
    "name": "ipython",
    "version": 3
   },
   "file_extension": ".py",
   "mimetype": "text/x-python",
   "name": "python",
   "nbconvert_exporter": "python",
   "pygments_lexer": "ipython3",
   "version": "3.8.11"
  }
 },
 "nbformat": 4,
 "nbformat_minor": 5
}
