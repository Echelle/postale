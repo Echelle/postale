{
 "cells": [
  {
   "cell_type": "markdown",
   "id": "040b5a42",
   "metadata": {},
   "source": [
    "# GMTNIRS Lband 3-3 facet shadowing\n",
    "\n",
    "The GMTNIRSgroove facets get shadowed for certain incidence angles.  The shadowing shrinks the beam waist, which then broadens the blaze envelope.  Here we compute the effective size of the facet as a function of input angle."
   ]
  },
  {
   "cell_type": "code",
   "execution_count": 7,
   "id": "9a5df9a9",
   "metadata": {},
   "outputs": [],
   "source": [
    "import matplotlib.pyplot as plt\n",
    "import numpy as np\n",
    "\n",
    "%config InlineBackend.figure_format='retina'"
   ]
  },
  {
   "cell_type": "markdown",
   "id": "8a3dffcf",
   "metadata": {},
   "source": [
    "### Fixed physical properties"
   ]
  },
  {
   "cell_type": "code",
   "execution_count": 8,
   "id": "08162158",
   "metadata": {},
   "outputs": [],
   "source": [
    "sigma = 71.43 # micron, groove spacing, used to calculate diffraction order location"
   ]
  },
  {
   "cell_type": "code",
   "execution_count": 65,
   "id": "a5016a48",
   "metadata": {},
   "outputs": [],
   "source": [
    "groove_top_width = sigma - 42.43 # micron pitch - groove width is "
   ]
  },
  {
   "cell_type": "markdown",
   "id": "0e07ec69",
   "metadata": {},
   "source": [
    "REFERENCE: Here is a cartoon of the IGRINS CA-1 grating from [this slideshow](https://speakerdeck.com/gully/ideas-for-metrology-of-silicon-diffractive-optics?slide=45)."
   ]
  },
  {
   "cell_type": "code",
   "execution_count": 10,
   "id": "61f83e2a",
   "metadata": {},
   "outputs": [
    {
     "data": {
      "text/html": [
       "<img src=\"../IGRINS_CA1_schematic.png\" width=300></img>\n"
      ],
      "text/plain": [
       "<IPython.core.display.HTML object>"
      ]
     },
     "metadata": {},
     "output_type": "display_data"
    }
   ],
   "source": [
    "%%html\n",
    "<img src=\"../IGRINS_CA1_schematic.png\" width=300></img>"
   ]
  },
  {
   "cell_type": "markdown",
   "id": "4943cc6d",
   "metadata": {},
   "source": [
    "The angle $a$ is the fixed $70.53^\\circ$ from the Si crystal planes, $b$ is $\\arctan{3}$, and c is whatever is left over to add up to 180."
   ]
  },
  {
   "cell_type": "code",
   "execution_count": 11,
   "id": "90c284ac",
   "metadata": {},
   "outputs": [],
   "source": [
    "a_degrees = 70.53 # \"Fixed\" Si crystal plane angle"
   ]
  },
  {
   "cell_type": "code",
   "execution_count": 12,
   "id": "ff9dd2e1",
   "metadata": {},
   "outputs": [],
   "source": [
    "b_degrees = 76.0 # Blaze angle in degrees"
   ]
  },
  {
   "cell_type": "code",
   "execution_count": 13,
   "id": "02dcce4e",
   "metadata": {},
   "outputs": [],
   "source": [
    "c_degrees = 180 - a_degrees - b_degrees # Complement must add up to 180"
   ]
  },
  {
   "cell_type": "code",
   "execution_count": 14,
   "id": "3b425a82",
   "metadata": {},
   "outputs": [],
   "source": [
    "a_radians, b_radians, c_radians = (np.radians(angle) for angle in \n",
    "                                   [a_degrees, b_degrees, c_degrees])"
   ]
  },
  {
   "cell_type": "markdown",
   "id": "91e3836c",
   "metadata": {},
   "source": [
    "#### What are the lengths of line segments $A$, $B$, $C$?"
   ]
  },
  {
   "cell_type": "markdown",
   "id": "93457677",
   "metadata": {},
   "source": [
    "$A$ is the groove spacing minus the groove top:"
   ]
  },
  {
   "cell_type": "code",
   "execution_count": 15,
   "id": "b8610b15",
   "metadata": {},
   "outputs": [],
   "source": [
    "A_micron = sigma - groove_top_width"
   ]
  },
  {
   "cell_type": "markdown",
   "id": "e96f91b0",
   "metadata": {},
   "source": [
    "We now have a triangle with known Angle-Side-Angle or `ASA`.\n",
    "Solve for line segments $B$ and $C$ with the [Law of Sines](https://en.wikipedia.org/wiki/Law_of_sines): \n",
    "$$\\frac{\\sin{\\alpha}}{a} \\,=\\, \\frac{\\sin{\\beta}}{b} \\,=\\, \\frac{\\sin{\\gamma}}{c}$$"
   ]
  },
  {
   "cell_type": "code",
   "execution_count": 16,
   "id": "1c9a70b5",
   "metadata": {},
   "outputs": [],
   "source": [
    "fixed_ratio = np.sin(a_radians) / A_micron"
   ]
  },
  {
   "cell_type": "code",
   "execution_count": 17,
   "id": "82ef300d",
   "metadata": {},
   "outputs": [],
   "source": [
    "B_micron = np.sin(b_radians) / fixed_ratio\n",
    "C_micron = np.sin(c_radians) / fixed_ratio"
   ]
  },
  {
   "cell_type": "code",
   "execution_count": 18,
   "id": "313a2160",
   "metadata": {},
   "outputs": [
    {
     "data": {
      "text/plain": [
       "(42.43, 43.66667667208741, 24.819427842379547)"
      ]
     },
     "execution_count": 18,
     "metadata": {},
     "output_type": "execute_result"
    }
   ],
   "source": [
    "A_micron, B_micron, C_micron"
   ]
  },
  {
   "cell_type": "markdown",
   "id": "46cc517f",
   "metadata": {},
   "source": [
    "## Determine the coordinates of the triangle vertices"
   ]
  },
  {
   "cell_type": "markdown",
   "id": "65e5c59e",
   "metadata": {},
   "source": [
    "The coordinates are needed for plotting purposes.  Define the `c` vertex at the origin.  The vectors will have coordinates $$\\vec{a} = a_x \\hat{i} + a_y \\hat{j} = (a_x, a_y)$$"
   ]
  },
  {
   "cell_type": "code",
   "execution_count": 19,
   "id": "6ceda1e3",
   "metadata": {},
   "outputs": [
    {
     "data": {
      "text/plain": [
       "(2,)"
      ]
     },
     "execution_count": 19,
     "metadata": {},
     "output_type": "execute_result"
    }
   ],
   "source": [
    "c_vertex = np.array([0.0, 0.0])\n",
    "c_vertex.shape"
   ]
  },
  {
   "cell_type": "code",
   "execution_count": 20,
   "id": "f98800f7",
   "metadata": {},
   "outputs": [],
   "source": [
    "b_vertex = c_vertex + np.array([B_micron, 0.0])"
   ]
  },
  {
   "cell_type": "markdown",
   "id": "6f60be66",
   "metadata": {},
   "source": [
    "The $a$ vertex has components derived from the angles and side lengths. **SOH-CAH-TOA**\n",
    "\n",
    "$$\\sin{c} = -a_y/B$$\n",
    "$$\\cos{c} = a_x/B$$"
   ]
  },
  {
   "cell_type": "code",
   "execution_count": 21,
   "id": "7e2ccada",
   "metadata": {},
   "outputs": [
    {
     "data": {
      "text/plain": [
       "array([ 36.42563697, -24.08218476])"
      ]
     },
     "execution_count": 21,
     "metadata": {},
     "output_type": "execute_result"
    }
   ],
   "source": [
    "a_vertex = np.array([B_micron*np.cos(c_radians), -B_micron*np.sin(c_radians)])\n",
    "a_vertex"
   ]
  },
  {
   "cell_type": "markdown",
   "id": "eb1d683d",
   "metadata": {},
   "source": [
    "Finally we will define another vector $d$ as the start of the groove top:"
   ]
  },
  {
   "cell_type": "code",
   "execution_count": 22,
   "id": "cde68623",
   "metadata": {},
   "outputs": [],
   "source": [
    "d_vertex = np.array([-groove_top_width, 0.0])"
   ]
  },
  {
   "cell_type": "markdown",
   "id": "dffcdd5a",
   "metadata": {},
   "source": [
    "### Illustrate the beam\n",
    "\n",
    "The beam comes in at a certain incidence angle and illuminates all of the groove top and some of the groove facet, dependening on the angle."
   ]
  },
  {
   "cell_type": "code",
   "execution_count": 23,
   "id": "f073ae21",
   "metadata": {},
   "outputs": [],
   "source": [
    "incidence_angle_degrees = 68.6\n",
    "incidence_angle_radians = np.radians(incidence_angle_degrees)"
   ]
  },
  {
   "cell_type": "markdown",
   "id": "507465fd",
   "metadata": {},
   "source": [
    "Determine the coordinates of the beam.  The rays come in from infinity, but let's draw them has having a fixed length for illustration purposes."
   ]
  },
  {
   "cell_type": "code",
   "execution_count": 24,
   "id": "5828fe47",
   "metadata": {},
   "outputs": [],
   "source": [
    "far = 100.0"
   ]
  },
  {
   "cell_type": "code",
   "execution_count": 25,
   "id": "ec263c1c",
   "metadata": {},
   "outputs": [],
   "source": [
    "ray1_vertex = np.array([-far*np.sin(incidence_angle_radians), \n",
    "                                far*np.cos(incidence_angle_radians)])"
   ]
  },
  {
   "cell_type": "markdown",
   "id": "5b61287c",
   "metadata": {},
   "source": [
    "Determine the coordinate at which the marginal ray is shadowed:"
   ]
  },
  {
   "cell_type": "code",
   "execution_count": 64,
   "id": "b94ffe03",
   "metadata": {},
   "outputs": [
    {
     "data": {
      "image/png": "[encoded data removed]",
      "text/plain": [
       "<Figure size 360x360 with 1 Axes>"
      ]
     },
     "metadata": {
      "image/png": {
       "height": 318,
       "width": 337
      },
      "needs_background": "light"
     },
     "output_type": "display_data"
    }
   ],
   "source": [
    "plt.figure(figsize=(5, 5))\n",
    "plt.plot([c_vertex[0], a_vertex[0]], [c_vertex[1], a_vertex[1]], lw=5, label='B')\n",
    "plt.plot([a_vertex[0], b_vertex[0]], [a_vertex[1], b_vertex[1]], lw=5, label='C')\n",
    "plt.plot([c_vertex[0], d_vertex[0]], [c_vertex[1], d_vertex[1]], lw=5, label='Groove Top')\n",
    "\n",
    "# Plot the incoming rays\n",
    "plt.plot([c_vertex[0], ray1_vertex[0]], [c_vertex[1], ray1_vertex[1]], \n",
    "         color='#ff4600', lw=2, label='Incoming Rays')\n",
    "plt.plot([c_vertex[0]+B_micron, ray1_vertex[0]+B_micron], [c_vertex[1], ray1_vertex[1]], \n",
    "         color='#ff4600', lw=2)\n",
    "plt.plot([c_vertex[0], -ray1_vertex[0]], [c_vertex[1], -ray1_vertex[1]], \n",
    "         color='#ff4600', lw=2, linestyle='dotted', label='Marginal Ray')\n",
    "\n",
    "# plt.text(B_micron/2, 1, 'A')\n",
    "# plt.text(b_vertex[0]-2, b_vertex[1]-2, r'$\\beta$')\n",
    "# plt.text(2,-1, r'$\\gamma$')\n",
    "plt.text(37,-7, 'h', color ='#ff4600')\n",
    "plt.text(5,+7, r'geometric projection', color ='c')\n",
    "\n",
    "\n",
    "plt.plot([0.0, 0.0], [0.0, 15], linewidth=2, color='k', marker='^', markersize=10)\n",
    "plt.plot([2.0, 7.0], [0.0, 15], linewidth=2, color='c')\n",
    "\n",
    "plt.axhline(0.0, linestyle='dashed', color='k', alpha=0.5)\n",
    "\n",
    "plt.xlim(-50, 50)\n",
    "plt.ylim(-50, 50)\n",
    "plt.xlabel('$x$ ($\\mu$m)');\n",
    "plt.ylabel('$y$ ($\\mu$m)')\n",
    "plt.legend();"
   ]
  },
  {
   "cell_type": "markdown",
   "id": "791242cd",
   "metadata": {},
   "source": [
    "We have $\\gamma$, and $\\beta$, so we can get $\\alpha$:"
   ]
  },
  {
   "cell_type": "code",
   "execution_count": 30,
   "id": "a0655795",
   "metadata": {},
   "outputs": [],
   "source": [
    "gamma_degrees = 90 - incidence_angle_degrees\n",
    "gamma_radians = np.radians(gamma_degrees)"
   ]
  },
  {
   "cell_type": "code",
   "execution_count": 31,
   "id": "011af0bf",
   "metadata": {},
   "outputs": [],
   "source": [
    "phi_degrees = 180 - b_degrees - gamma_degrees\n",
    "phi_radians = np.radians(phi_degrees)"
   ]
  },
  {
   "cell_type": "markdown",
   "id": "a28b0805",
   "metadata": {},
   "source": [
    "We want to find the length of the linesegment.  Let's use angle-side-angle `ASA`:\n",
    "\n",
    "$$\\frac{\\sin{\\phi}}{A} \\,=\\, \\frac{\\sin{\\beta}}{b} \\,=\\, \\frac{\\sin{\\gamma}}{C}$$\n",
    "\n",
    "solve for $C$:\n",
    "\n",
    "$$C \\,=\\, A \\frac{\\sin{\\gamma}}{\\sin{\\phi}}$$\n"
   ]
  },
  {
   "cell_type": "code",
   "execution_count": 32,
   "id": "4046f970",
   "metadata": {},
   "outputs": [],
   "source": [
    "h_micron = A_micron * np.sin(gamma_radians)/np.sin(phi_radians)"
   ]
  },
  {
   "cell_type": "code",
   "execution_count": 36,
   "id": "6cd0895b",
   "metadata": {},
   "outputs": [
    {
     "data": {
      "text/plain": [
       "15.6117496875083"
      ]
     },
     "execution_count": 36,
     "metadata": {},
     "output_type": "execute_result"
    }
   ],
   "source": [
    "h_micron#/C_micron"
   ]
  },
  {
   "cell_type": "markdown",
   "id": "3fdbf5cd",
   "metadata": {},
   "source": [
    "Yay! We did it!"
   ]
  }
 ],
 "metadata": {
  "kernelspec": {
   "display_name": "Python 3 (ipykernel)",
   "language": "python",
   "name": "python3"
  },
  "language_info": {
   "codemirror_mode": {
    "name": "ipython",
    "version": 3
   },
   "file_extension": ".py",
   "mimetype": "text/x-python",
   "name": "python",
   "nbconvert_exporter": "python",
   "pygments_lexer": "ipython3",
   "version": "3.8.12"
  }
 },
 "nbformat": 4,
 "nbformat_minor": 5
}
