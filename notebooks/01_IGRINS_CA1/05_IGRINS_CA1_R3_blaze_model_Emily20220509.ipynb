{
 "cells": [
  {
   "cell_type": "markdown",
   "metadata": {},
   "source": [
    "# IGRINS GMTNIRS $76^{\\circ}$ blaze model\n",
    "\n",
    "LM3-10 maybe?\n",
    "\n",
    "Here we finally get to our desired result: the blaze envelope at R3."
   ]
  },
  {
   "cell_type": "code",
   "execution_count": 1,
   "metadata": {},
   "outputs": [],
   "source": [
    "import matplotlib.pyplot as plt\n",
    "import numpy as np\n",
    "\n",
    "%config InlineBackend.figure_format='retina'"
   ]
  },
  {
   "cell_type": "markdown",
   "metadata": {},
   "source": [
    "### Fixed physical properties"
   ]
  },
  {
   "cell_type": "code",
   "execution_count": 2,
   "metadata": {},
   "outputs": [],
   "source": [
    "sigma = 71.43 # micron"
   ]
  },
  {
   "cell_type": "code",
   "execution_count": 3,
   "metadata": {},
   "outputs": [],
   "source": [
    "groove_top_width = 71.43 - 42.43 # micron"
   ]
  },
  {
   "cell_type": "code",
   "execution_count": 4,
   "metadata": {},
   "outputs": [
    {
     "data": {
      "text/plain": [
       "76.2"
      ]
     },
     "execution_count": 4,
     "metadata": {},
     "output_type": "execute_result"
    }
   ],
   "source": [
    "blaze_angle_degrees = 76.2\n",
    "blaze_angle_radians = np.radians(blaze_angle_degrees) # radians\n",
    "blaze_angle_degrees"
   ]
  },
  {
   "cell_type": "markdown",
   "metadata": {},
   "source": [
    "Assume testing in back-surface reflection in visible light!"
   ]
  },
  {
   "cell_type": "code",
   "execution_count": 5,
   "metadata": {},
   "outputs": [],
   "source": [
    "wavelength_micron = 0.6328 # micron"
   ]
  },
  {
   "cell_type": "code",
   "execution_count": 6,
   "metadata": {},
   "outputs": [],
   "source": [
    "beam_size_mm = 0.5 # mm\n",
    "beam_size_micron = beam_size_mm*1000.0"
   ]
  },
  {
   "cell_type": "markdown",
   "metadata": {},
   "source": [
    "Fix the angle of incidence for now."
   ]
  },
  {
   "cell_type": "markdown",
   "metadata": {},
   "source": [
    "### Set the angular sampling\n",
    "\n",
    "We want a number that has about 10 steps per beamsize."
   ]
  },
  {
   "cell_type": "code",
   "execution_count": 7,
   "metadata": {},
   "outputs": [],
   "source": [
    "degrees_per_step = 0.002 # degrees"
   ]
  },
  {
   "cell_type": "code",
   "execution_count": 8,
   "metadata": {},
   "outputs": [],
   "source": [
    "angular_grid_degrees = np.arange(-90, 90, degrees_per_step)\n",
    "angular_grid_radians = np.radians(angular_grid_degrees)"
   ]
  },
  {
   "cell_type": "code",
   "execution_count": 9,
   "metadata": {},
   "outputs": [],
   "source": [
    "max_m = np.floor(2 * sigma / wavelength_micron)\n",
    "m_vector = np.arange(-max_m, max_m+1, 1)"
   ]
  },
  {
   "cell_type": "markdown",
   "metadata": {},
   "source": [
    "Note that we are including diffraction orders like $m=-52$ that only exist for some incidence angles.  That's OK! We are being overly-inclusive in case we go to extreme values of $\\theta_i$ that reveal some of those presently-unphysical orders."
   ]
  },
  {
   "cell_type": "markdown",
   "metadata": {},
   "source": [
    "### Calculate the groove scarp facet diffraction"
   ]
  },
  {
   "cell_type": "markdown",
   "metadata": {},
   "source": [
    "Compute the angles of the peak of diffraction for the input wavelength.  "
   ]
  },
  {
   "cell_type": "markdown",
   "metadata": {},
   "source": [
    "Grating equation:"
   ]
  },
  {
   "cell_type": "markdown",
   "metadata": {},
   "source": [
    "$\\sin{\\theta_m} = \\left( \\sin\\theta_i -\\frac{m\\lambda}{\\sigma}\\right )$  "
   ]
  },
  {
   "cell_type": "markdown",
   "metadata": {},
   "source": [
    "Which is also:"
   ]
  },
  {
   "cell_type": "markdown",
   "metadata": {},
   "source": [
    "$\\theta_m = \\arcsin{\\left( \\sin\\theta_i -\\frac{m\\lambda}{\\sigma}\\right )}$  "
   ]
  },
  {
   "cell_type": "markdown",
   "metadata": {},
   "source": [
    "But, if you are \"In Littrow\", that means $\\alpha=\\beta=\\delta$:\n"
   ]
  },
  {
   "cell_type": "markdown",
   "metadata": {},
   "source": [
    "$2\\sin{\\delta} = \\frac{m\\lambda}{\\sigma}$  "
   ]
  },
  {
   "cell_type": "markdown",
   "metadata": {},
   "source": [
    "Which is:"
   ]
  },
  {
   "cell_type": "markdown",
   "metadata": {},
   "source": [
    "$\\delta = \\arcsin{\\frac{m\\lambda}{2\\sigma}}$  "
   ]
  },
  {
   "cell_type": "code",
   "execution_count": 67,
   "metadata": {},
   "outputs": [],
   "source": [
    "targetm = 220"
   ]
  },
  {
   "cell_type": "code",
   "execution_count": 68,
   "metadata": {},
   "outputs": [],
   "source": [
    "theta_i_radians = np.arcsin((targetm*wavelength_micron)/(2*sigma))\n",
    "theta_i_degrees = np.degrees(theta_i_radians)"
   ]
  },
  {
   "cell_type": "code",
   "execution_count": 69,
   "metadata": {},
   "outputs": [
    {
     "data": {
      "text/plain": [
       "77.03122409410736"
      ]
     },
     "execution_count": 69,
     "metadata": {},
     "output_type": "execute_result"
    }
   ],
   "source": [
    "theta_i_degrees"
   ]
  },
  {
   "cell_type": "code",
   "execution_count": 70,
   "metadata": {},
   "outputs": [],
   "source": [
    "%%capture\n",
    "theta_m_radians = np.arcsin(np.sin(theta_i_radians) - m_vector*(wavelength_micron)/sigma)\n",
    "theta_m_degrees = np.degrees(theta_m_radians)"
   ]
  },
  {
   "cell_type": "code",
   "execution_count": 71,
   "metadata": {},
   "outputs": [],
   "source": [
    "finite_mask = np.isfinite(theta_m_radians)"
   ]
  },
  {
   "cell_type": "code",
   "execution_count": 72,
   "metadata": {},
   "outputs": [],
   "source": [
    "theta_m_column = theta_m_radians[np.newaxis, :]"
   ]
  },
  {
   "cell_type": "markdown",
   "metadata": {},
   "source": [
    "### Visualize the unblazed diffraction from all of these orders\n",
    "\n",
    "We need to shift-and-sum the flux contribution from all of our diffraction orders."
   ]
  },
  {
   "cell_type": "markdown",
   "metadata": {},
   "source": [
    "Each order has a mirror-like diffraction centered on its $\\theta_m$:\n",
    "\n",
    "$$\\frac{I_m(\\boldsymbol{\\theta})}{I_0} = \\operatorname{sinc}^2 \\left[ \\frac{d \\pi}{\\lambda} \\sin{(\\boldsymbol{\\theta}-\\theta_m)}\\right]$$\n",
    "\n",
    "$$\\mathrm{\"LHS\"} = \\mathrm{\"RHS\"}$$"
   ]
  },
  {
   "cell_type": "code",
   "execution_count": 73,
   "metadata": {},
   "outputs": [],
   "source": [
    "rhs_argument = (beam_size_micron*np.pi/(wavelength_micron)*\n",
    "                np.sin(angular_grid_radians[:, np.newaxis]-theta_m_column))"
   ]
  },
  {
   "cell_type": "markdown",
   "metadata": {},
   "source": [
    "There's technically a foreshortening term associated with non-normal-incidence beamsize projection effects.   \n",
    "Ignore it for now!"
   ]
  },
  {
   "cell_type": "markdown",
   "metadata": {},
   "source": [
    "$$\\frac{I(\\boldsymbol{\\theta})}{I_0} = \\sum_{m_\\mathrm{min}}^{m_\\mathrm{max}} \\operatorname{sinc}^2 \\left[ \\frac{d \\pi}{\\lambda} \\sin{(\\boldsymbol{\\theta}-\\theta_m)}\\right]$$"
   ]
  },
  {
   "cell_type": "code",
   "execution_count": 74,
   "metadata": {},
   "outputs": [],
   "source": [
    "rhs = np.nan_to_num(np.sinc(rhs_argument)**2, nan=0.0)"
   ]
  },
  {
   "cell_type": "code",
   "execution_count": 75,
   "metadata": {},
   "outputs": [],
   "source": [
    "unblazed_groove_top_diffraction = np.sum(rhs, axis=1)"
   ]
  },
  {
   "cell_type": "markdown",
   "metadata": {},
   "source": [
    "### Visualize the *blazed* diffraction from all of these orders\n",
    "\n",
    "Each order has a mirror-like diffraction centered on its $\\theta_m$, calculated above."
   ]
  },
  {
   "cell_type": "code",
   "execution_count": 76,
   "metadata": {},
   "outputs": [],
   "source": [
    "def foreshortened_groove(sigma, groove_top_width, incidence_angle):\n",
    "    \"\"\" The size of the illuminated groove \n",
    "    \n",
    "    Note:\n",
    "    -----\n",
    "    Function formerly known as \"beam_waist\", renamed to disambiguate\n",
    "    \n",
    "    Parameters:\n",
    "    -----------\n",
    "    sigma: The groove spacing or groove pitch (micron)\n",
    "    groove_top_width: The groove top or 'dam' unique to Si grating\n",
    "        development, they cause shadowing (micron)\n",
    "    incidence_angle: The input angle, as measured from the \n",
    "        grating normal (degrees)\n",
    "    \"\"\"\n",
    "    \n",
    "    A_micron = sigma - groove_top_width\n",
    "    incidence_angle_radians = np.radians(incidence_angle)\n",
    "    \n",
    "    output = A_micron * np.cos(incidence_angle_radians)\n",
    "    return output"
   ]
  },
  {
   "cell_type": "code",
   "execution_count": 77,
   "metadata": {},
   "outputs": [
    {
     "data": {
      "text/plain": [
       "9.522141664620843"
      ]
     },
     "execution_count": 77,
     "metadata": {},
     "output_type": "execute_result"
    }
   ],
   "source": [
    "d_term = foreshortened_groove(sigma, groove_top_width, theta_i_degrees)\n",
    "d_term"
   ]
  },
  {
   "cell_type": "code",
   "execution_count": 78,
   "metadata": {},
   "outputs": [],
   "source": [
    "blaze_modulation = np.sinc((d_term*np.pi/(wavelength_micron)*\n",
    "                np.sin(angular_grid_radians + blaze_angle_radians)))**2"
   ]
  },
  {
   "cell_type": "markdown",
   "metadata": {},
   "source": [
    "## Aside: a simple table of the expected brightnesses"
   ]
  },
  {
   "cell_type": "markdown",
   "metadata": {},
   "source": [
    "We are getting towards a nice plot, but on the way, what we really care about is a simple table of the order numbers and the fluxes of those orders. And we want to focus on the brightest few (~3) orders."
   ]
  },
  {
   "cell_type": "code",
   "execution_count": 79,
   "metadata": {},
   "outputs": [],
   "source": [
    "blaze_modulation_at_order_peaks = np.sinc((d_term*np.pi/(wavelength_micron)*\n",
    "                np.sin(theta_m_radians + blaze_angle_radians)))**2"
   ]
  },
  {
   "cell_type": "code",
   "execution_count": 80,
   "metadata": {},
   "outputs": [],
   "source": [
    "import pandas as pd"
   ]
  },
  {
   "cell_type": "code",
   "execution_count": 95,
   "metadata": {},
   "outputs": [],
   "source": [
    "lookup_dict = {'m':m_vector, \n",
    "               'theta_i_degrees':theta_i_degrees*(-1),\n",
    "               'theta_m_degrees':theta_m_degrees, \n",
    "               'theta_m_radians':theta_m_radians,\n",
    "               'unnormalized_flux':blaze_modulation_at_order_peaks,\n",
    "               'normalize_flux':blaze_modulation_at_order_peaks/np.nanmax(blaze_modulation_at_order_peaks)\n",
    "              }"
   ]
  },
  {
   "cell_type": "code",
   "execution_count": 96,
   "metadata": {},
   "outputs": [],
   "source": [
    "df = pd.DataFrame(lookup_dict).dropna()"
   ]
  },
  {
   "cell_type": "code",
   "execution_count": 97,
   "metadata": {},
   "outputs": [],
   "source": [
    "pd.set_option('display.max_rows', 300)"
   ]
  },
  {
   "cell_type": "code",
   "execution_count": 98,
   "metadata": {},
   "outputs": [],
   "source": [
    "brightest_index = df.normalize_flux.argmax()"
   ]
  },
  {
   "cell_type": "code",
   "execution_count": 101,
   "metadata": {},
   "outputs": [
    {
     "data": {
      "text/html": [
       "<div>\n",
       "<style scoped>\n",
       "    .dataframe tbody tr th:only-of-type {\n",
       "        vertical-align: middle;\n",
       "    }\n",
       "\n",
       "    .dataframe tbody tr th {\n",
       "        vertical-align: top;\n",
       "    }\n",
       "\n",
       "    .dataframe thead th {\n",
       "        text-align: right;\n",
       "    }\n",
       "</style>\n",
       "<table border=\"1\" class=\"dataframe\">\n",
       "  <thead>\n",
       "    <tr style=\"text-align: right;\">\n",
       "      <th></th>\n",
       "      <th>m</th>\n",
       "      <th>theta_i_degrees</th>\n",
       "      <th>theta_m_degrees</th>\n",
       "      <th>theta_m_radians</th>\n",
       "      <th>unnormalized_flux</th>\n",
       "      <th>normalize_flux</th>\n",
       "    </tr>\n",
       "  </thead>\n",
       "  <tbody>\n",
       "    <tr>\n",
       "      <th>442</th>\n",
       "      <td>217.0</td>\n",
       "      <td>-77.031224</td>\n",
       "      <td>-71.426430</td>\n",
       "      <td>-1.246626</td>\n",
       "      <td>0.000277</td>\n",
       "      <td>0.001849</td>\n",
       "    </tr>\n",
       "    <tr>\n",
       "      <th>443</th>\n",
       "      <td>218.0</td>\n",
       "      <td>-77.031224</td>\n",
       "      <td>-73.092291</td>\n",
       "      <td>-1.275701</td>\n",
       "      <td>0.014832</td>\n",
       "      <td>0.098887</td>\n",
       "    </tr>\n",
       "    <tr>\n",
       "      <th>444</th>\n",
       "      <td>219.0</td>\n",
       "      <td>-77.031224</td>\n",
       "      <td>-74.935420</td>\n",
       "      <td>-1.307870</td>\n",
       "      <td>0.001711</td>\n",
       "      <td>0.011410</td>\n",
       "    </tr>\n",
       "    <tr>\n",
       "      <th>445</th>\n",
       "      <td>220.0</td>\n",
       "      <td>-77.031224</td>\n",
       "      <td>-77.031224</td>\n",
       "      <td>-1.344448</td>\n",
       "      <td>0.149995</td>\n",
       "      <td>1.000000</td>\n",
       "    </tr>\n",
       "  </tbody>\n",
       "</table>\n",
       "</div>"
      ],
      "text/plain": [
       "         m  theta_i_degrees  theta_m_degrees  theta_m_radians  \\\n",
       "442  217.0       -77.031224       -71.426430        -1.246626   \n",
       "443  218.0       -77.031224       -73.092291        -1.275701   \n",
       "444  219.0       -77.031224       -74.935420        -1.307870   \n",
       "445  220.0       -77.031224       -77.031224        -1.344448   \n",
       "\n",
       "     unnormalized_flux  normalize_flux  \n",
       "442           0.000277        0.001849  \n",
       "443           0.014832        0.098887  \n",
       "444           0.001711        0.011410  \n",
       "445           0.149995        1.000000  "
      ]
     },
     "execution_count": 101,
     "metadata": {},
     "output_type": "execute_result"
    }
   ],
   "source": [
    "df.iloc[brightest_index-3:brightest_index+1]"
   ]
  },
  {
   "cell_type": "markdown",
   "metadata": {},
   "source": [
    "Again, there's an incidence-angle foreshortening effect here..."
   ]
  },
  {
   "cell_type": "code",
   "execution_count": 86,
   "metadata": {},
   "outputs": [
    {
     "data": {
      "text/plain": [
       "(-90, -60)"
      ]
     },
     "execution_count": 86,
     "metadata": {},
     "output_type": "execute_result"
    },
    {
     "data": {
      "image/png": "[encoded data removed]",
      "text/plain": [
       "<Figure size 576x576 with 1 Axes>"
      ]
     },
     "metadata": {
      "image/png": {
       "height": 465,
       "width": 494
      },
      "needs_background": "light"
     },
     "output_type": "display_data"
    }
   ],
   "source": [
    "plt.figure(figsize=(8, 8))\n",
    "plt.plot(df['theta_m_degrees'], df['normalize_flux'], 'o')\n",
    "plt.xlim(-90, -60)"
   ]
  },
  {
   "cell_type": "code",
   "execution_count": 87,
   "metadata": {},
   "outputs": [
    {
     "data": {
      "image/png": "[encoded data removed]",
      "text/plain": [
       "<Figure size 432x288 with 1 Axes>"
      ]
     },
     "metadata": {
      "image/png": {
       "height": 278,
       "width": 501
      },
      "needs_background": "light"
     },
     "output_type": "display_data"
    }
   ],
   "source": [
    "x_lo, x_hi = (-90, -50)\n",
    "plt.xlim(x_lo, x_hi)\n",
    "plt.ylim(0, 1.2)\n",
    "\n",
    "for m, theta_m in zip(m_vector, theta_m_degrees):\n",
    "    if np.isfinite(theta_m) & (theta_m>x_lo) & (theta_m < x_hi-1):\n",
    "        plt.text(theta_m+0.1, 1.15, \"{:d}\".format(-int(m)), rotation='horizontal')\n",
    "        plt.plot([theta_m, theta_m], [1.0, 1.2], color='k', alpha=0.5, \n",
    "                 linestyle='dotted')\n",
    "\n",
    "#plt.text(-77, 0.8, ratio)\n",
    "plt.xlabel(r'$\\theta \\; (^\\circ)$')\n",
    "plt.ylabel(r'$\\frac{I(\\theta)}{I_0}$', fontsize=18)\n",
    "plt.title('Blazed diffraction from IGRINS CA-1 at R3 for 632.8 nm back surface illumination'.format(beam_size_mm) );\n",
    "\n",
    "plt.rcParams['axes.facecolor']='white'\n",
    "plt.rcParams['savefig.facecolor']='white'\n",
    "\n",
    "plt.savefig('../../figures/GMTNIRS_76_blaze_demo.png', dpi=300, bbox_inches='tight');"
   ]
  },
  {
   "cell_type": "markdown",
   "metadata": {},
   "source": [
    "## For display purposes:\n",
    "Show the blaze envelope."
   ]
  },
  {
   "cell_type": "code",
   "execution_count": 88,
   "metadata": {},
   "outputs": [],
   "source": [
    "blazed_groove_top_diffraction = blaze_modulation * unblazed_groove_top_diffraction"
   ]
  },
  {
   "cell_type": "code",
   "execution_count": 89,
   "metadata": {},
   "outputs": [
    {
     "data": {
      "image/png": "[encoded data removed]",
      "text/plain": [
       "<Figure size 576x576 with 1 Axes>"
      ]
     },
     "metadata": {
      "image/png": {
       "height": 495,
       "width": 537
      },
      "needs_background": "light"
     },
     "output_type": "display_data"
    }
   ],
   "source": [
    "plt.figure(figsize=(8, 8))\n",
    "plt.step(angular_grid_degrees, blazed_groove_top_diffraction, where='mid')\n",
    "plt.step(angular_grid_degrees, blaze_modulation, where='mid')\n",
    "\n",
    "x_lo, x_hi = (-85, -65)\n",
    "plt.xlim(x_lo, x_hi)\n",
    "plt.ylim(0, 1.2)\n",
    "\n",
    "for m, theta_m in zip(m_vector, theta_m_degrees):\n",
    "    if np.isfinite(theta_m) & (theta_m>x_lo) & (theta_m < x_hi-1):\n",
    "        plt.text(theta_m+0.1, 1.15, \"{:d}\".format(-int(m)), rotation='horizontal')\n",
    "        plt.plot([theta_m, theta_m], [1.0, 1.2], color='k', alpha=0.5, \n",
    "                 linestyle='dotted')\n",
    "\n",
    "#plt.text(-77, 0.8, ratio)\n",
    "plt.xlabel(r'$\\theta \\; (^\\circ)$')\n",
    "plt.ylabel(r'$\\frac{I(\\theta)}{I_0}$', fontsize=18)\n",
    "plt.title('Blazed diffraction from IGRINS CA-1 at R3 for 632.8 nm back surface illumination'.format(beam_size_mm) );\n",
    "\n",
    "plt.rcParams['axes.facecolor']='white'\n",
    "plt.rcParams['savefig.facecolor']='white'\n",
    "\n",
    "plt.savefig('../../figures/GMTNIRS_76_blaze_demo.png', dpi=300, bbox_inches='tight');"
   ]
  },
  {
   "cell_type": "code",
   "execution_count": null,
   "metadata": {},
   "outputs": [],
   "source": []
  },
  {
   "cell_type": "markdown",
   "metadata": {},
   "source": [
    "Let's look at the whole range in log space"
   ]
  },
  {
   "cell_type": "code",
   "execution_count": null,
   "metadata": {},
   "outputs": [],
   "source": [
    "plt.figure(figsize=(14, 4))\n",
    "plt.step(angular_grid_degrees, blazed_groove_top_diffraction)\n",
    "plt.step(angular_grid_degrees, blaze_modulation)\n",
    "\n",
    "x_lo, x_hi = (-90, -50)\n",
    "plt.xlim(x_lo, x_hi)\n",
    "plt.ylim(1e-4, 2)\n",
    "plt.yscale('log')\n",
    "\n",
    "for m, theta_m in zip(m_vector, theta_m_degrees):\n",
    "    if np.isfinite(theta_m) & (theta_m>x_lo) & (theta_m < x_hi) & (np.mod(m, 1) ==0):\n",
    "        plt.text(theta_m+0.1, 1.15, \"{:d}\".format(-int(m)), rotation='horizontal')\n",
    "        plt.plot([theta_m, theta_m], [0.01, 1.2], color='k', alpha=0.5, \n",
    "                 linestyle='dotted')\n",
    "\n",
    "plt.xlabel(r'$\\theta \\; (^\\circ)$')\n",
    "plt.ylabel(r'$\\frac{I(\\theta)}{I_0}$', fontsize=18)\n",
    "plt.title('Blazed diffraction from IGRINS groove tops'.format(beam_size_mm) );"
   ]
  },
  {
   "cell_type": "markdown",
   "metadata": {},
   "source": [
    "Awesome!  Appears correct!"
   ]
  }
 ],
 "metadata": {
  "kernelspec": {
   "display_name": "Python 3",
   "language": "python",
   "name": "python3"
  },
  "language_info": {
   "codemirror_mode": {
    "name": "ipython",
    "version": 3
   },
   "file_extension": ".py",
   "mimetype": "text/x-python",
   "name": "python",
   "nbconvert_exporter": "python",
   "pygments_lexer": "ipython3",
   "version": "3.7.3"
  }
 },
 "nbformat": 4,
 "nbformat_minor": 5
}
