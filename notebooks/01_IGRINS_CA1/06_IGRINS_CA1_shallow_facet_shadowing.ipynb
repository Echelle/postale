{
 "cells": [
  {
   "cell_type": "markdown",
   "id": "040b5a42",
   "metadata": {},
   "source": [
    "# IGRINS CA1 *shallow* facet shadowing\n",
    "\n",
    "Here we make a schematic of the shallow facet shadowing, see notebooke #3 for the scarp facet shadowing."
   ]
  },
  {
   "cell_type": "code",
   "execution_count": 1,
   "id": "9a5df9a9",
   "metadata": {},
   "outputs": [],
   "source": [
    "import matplotlib.pyplot as plt\n",
    "import numpy as np\n",
    "\n",
    "%config InlineBackend.figure_format='retina'"
   ]
  },
  {
   "cell_type": "markdown",
   "id": "8a3dffcf",
   "metadata": {},
   "source": [
    "### Fixed physical properties"
   ]
  },
  {
   "cell_type": "code",
   "execution_count": 2,
   "id": "08162158",
   "metadata": {},
   "outputs": [],
   "source": [
    "sigma = 27.36 # micron"
   ]
  },
  {
   "cell_type": "code",
   "execution_count": 3,
   "id": "a5016a48",
   "metadata": {},
   "outputs": [],
   "source": [
    "groove_top_width = 9.95 # micron"
   ]
  },
  {
   "cell_type": "markdown",
   "id": "0e07ec69",
   "metadata": {},
   "source": [
    "Here is a cartoon of the IGRINS CA-1 grating from [this slideshow](https://speakerdeck.com/gully/ideas-for-metrology-of-silicon-diffractive-optics?slide=45)."
   ]
  },
  {
   "cell_type": "code",
   "execution_count": 4,
   "id": "61f83e2a",
   "metadata": {},
   "outputs": [
    {
     "data": {
      "text/html": [
       "<img src=\"../IGRINS_CA1_schematic.png\" width=300></img>\n"
      ],
      "text/plain": [
       "<IPython.core.display.HTML object>"
      ]
     },
     "metadata": {},
     "output_type": "display_data"
    }
   ],
   "source": [
    "%%html\n",
    "<img src=\"../IGRINS_CA1_schematic.png\" width=300></img>"
   ]
  },
  {
   "cell_type": "markdown",
   "id": "4943cc6d",
   "metadata": {},
   "source": [
    "The angle $a$ is the fixed $70.53^\\circ$ from the Si crystal planes, $b$ is $\\arctan{3}$, and c is whatever is left over to add up to 180."
   ]
  },
  {
   "cell_type": "code",
   "execution_count": 5,
   "id": "90c284ac",
   "metadata": {},
   "outputs": [],
   "source": [
    "a_degrees = 70.53 # \"Fixed\" Si crystal plane angle"
   ]
  },
  {
   "cell_type": "code",
   "execution_count": 6,
   "id": "ff9dd2e1",
   "metadata": {},
   "outputs": [],
   "source": [
    "b_degrees = np.degrees(np.arctan(3)) # Blaze angle"
   ]
  },
  {
   "cell_type": "code",
   "execution_count": 7,
   "id": "02dcce4e",
   "metadata": {},
   "outputs": [],
   "source": [
    "c_degrees = 180 - a_degrees - b_degrees # Complement must add up to 180"
   ]
  },
  {
   "cell_type": "code",
   "execution_count": 8,
   "id": "3b425a82",
   "metadata": {},
   "outputs": [],
   "source": [
    "a_radians, b_radians, c_radians = (np.radians(angle) for angle in \n",
    "                                   [a_degrees, b_degrees, c_degrees])"
   ]
  },
  {
   "cell_type": "markdown",
   "id": "91e3836c",
   "metadata": {},
   "source": [
    "#### What are the lengths of line segments $A$, $B$, $C$?"
   ]
  },
  {
   "cell_type": "markdown",
   "id": "93457677",
   "metadata": {},
   "source": [
    "$A$ is the groove spacing minus the groove top:"
   ]
  },
  {
   "cell_type": "code",
   "execution_count": 9,
   "id": "b8610b15",
   "metadata": {},
   "outputs": [],
   "source": [
    "A_micron = sigma - groove_top_width"
   ]
  },
  {
   "cell_type": "markdown",
   "id": "e96f91b0",
   "metadata": {},
   "source": [
    "We now have a triangle with known Angle-Side-Angle or `ASA`.\n",
    "Solve for line segments $B$ and $C$ with the [Law of Sines](https://en.wikipedia.org/wiki/Law_of_sines): \n",
    "$$\\frac{\\sin{\\alpha}}{a} \\,=\\, \\frac{\\sin{\\beta}}{b} \\,=\\, \\frac{\\sin{\\gamma}}{c}$$"
   ]
  },
  {
   "cell_type": "code",
   "execution_count": 10,
   "id": "1c9a70b5",
   "metadata": {},
   "outputs": [],
   "source": [
    "fixed_ratio = np.sin(a_radians) / A_micron"
   ]
  },
  {
   "cell_type": "code",
   "execution_count": 11,
   "id": "82ef300d",
   "metadata": {},
   "outputs": [],
   "source": [
    "B_micron = np.sin(b_radians) / fixed_ratio\n",
    "C_micron = np.sin(c_radians) / fixed_ratio"
   ]
  },
  {
   "cell_type": "code",
   "execution_count": 12,
   "id": "313a2160",
   "metadata": {},
   "outputs": [
    {
     "data": {
      "text/plain": [
       "(17.41, 17.518342623201463, 11.344621078105504)"
      ]
     },
     "execution_count": 12,
     "metadata": {},
     "output_type": "execute_result"
    }
   ],
   "source": [
    "A_micron, B_micron, C_micron"
   ]
  },
  {
   "cell_type": "markdown",
   "id": "46cc517f",
   "metadata": {},
   "source": [
    "## Determine the coordinates of the triangle vertices"
   ]
  },
  {
   "cell_type": "markdown",
   "id": "65e5c59e",
   "metadata": {},
   "source": [
    "The coordinates are needed for plotting purposes.  Define the `c` vertex at the origin.  The vectors will have coordinates $$\\vec{a} = a_x \\hat{i} + a_y \\hat{j} = (a_x, a_y)$$"
   ]
  },
  {
   "cell_type": "code",
   "execution_count": 13,
   "id": "6ceda1e3",
   "metadata": {},
   "outputs": [
    {
     "data": {
      "text/plain": [
       "(2,)"
      ]
     },
     "execution_count": 13,
     "metadata": {},
     "output_type": "execute_result"
    }
   ],
   "source": [
    "c_vertex = np.array([0.0, 0.0])\n",
    "c_vertex.shape"
   ]
  },
  {
   "cell_type": "code",
   "execution_count": 14,
   "id": "f98800f7",
   "metadata": {},
   "outputs": [],
   "source": [
    "b_vertex = c_vertex + np.array([A_micron, 0.0])"
   ]
  },
  {
   "cell_type": "markdown",
   "id": "6f60be66",
   "metadata": {},
   "source": [
    "The $a$ vertex has components derived from the angles and side lengths. **SOH-CAH-TOA**\n",
    "\n",
    "$$\\sin{c} = -a_y/B$$\n",
    "$$\\cos{c} = a_x/B$$"
   ]
  },
  {
   "cell_type": "code",
   "execution_count": 15,
   "id": "7e2ccada",
   "metadata": {},
   "outputs": [
    {
     "data": {
      "text/plain": [
       "array([ 13.82251582, -10.76245254])"
      ]
     },
     "execution_count": 15,
     "metadata": {},
     "output_type": "execute_result"
    }
   ],
   "source": [
    "a_vertex = np.array([B_micron*np.cos(c_radians), -B_micron*np.sin(c_radians)])\n",
    "a_vertex"
   ]
  },
  {
   "cell_type": "markdown",
   "id": "eb1d683d",
   "metadata": {},
   "source": [
    "Finally we will define another vector $d$ as the start of the groove top:"
   ]
  },
  {
   "cell_type": "code",
   "execution_count": 16,
   "id": "cde68623",
   "metadata": {},
   "outputs": [],
   "source": [
    "d_vertex = np.array([-groove_top_width, 0.0])"
   ]
  },
  {
   "cell_type": "markdown",
   "id": "dffcdd5a",
   "metadata": {},
   "source": [
    "### Illustrate the beam\n",
    "\n",
    "The beam comes in at a certain incidence angle and illuminates all of the groove top and some of the groove facet, dependening on the angle."
   ]
  },
  {
   "cell_type": "code",
   "execution_count": 17,
   "id": "d460009a",
   "metadata": {},
   "outputs": [],
   "source": [
    "incidence_angle_degrees = -44.6\n",
    "incidence_angle_radians = np.radians(incidence_angle_degrees)"
   ]
  },
  {
   "cell_type": "markdown",
   "id": "01980af4",
   "metadata": {},
   "source": [
    "Determine the coordinates of the beam.  The rays come in from infinity, but let's draw them has having a fixed length for illustration purposes."
   ]
  },
  {
   "cell_type": "code",
   "execution_count": 18,
   "id": "09f58ce5",
   "metadata": {},
   "outputs": [],
   "source": [
    "far = 100.0"
   ]
  },
  {
   "cell_type": "code",
   "execution_count": 19,
   "id": "97e947db",
   "metadata": {},
   "outputs": [],
   "source": [
    "ray1_vertex = np.array([-far*np.sin(incidence_angle_radians), \n",
    "                                far*np.cos(incidence_angle_radians)])"
   ]
  },
  {
   "cell_type": "markdown",
   "id": "54f2d85d",
   "metadata": {},
   "source": [
    "Determine the coordinate at which the marginal ray is shadowed:"
   ]
  },
  {
   "cell_type": "code",
   "execution_count": 20,
   "id": "b94ffe03",
   "metadata": {},
   "outputs": [
    {
     "data": {
      "image/png": "[encoded data removed]",
      "text/plain": [
       "<Figure size 360x360 with 1 Axes>"
      ]
     },
     "metadata": {
      "image/png": {
       "height": 321,
       "width": 343
      },
      "needs_background": "light"
     },
     "output_type": "display_data"
    }
   ],
   "source": [
    "plt.figure(figsize=(5, 5))\n",
    "plt.plot([c_vertex[0], a_vertex[0]], [c_vertex[1], a_vertex[1]], lw=5, label='B')\n",
    "plt.plot([a_vertex[0], b_vertex[0]], [a_vertex[1], b_vertex[1]], lw=5, label='C')\n",
    "plt.plot([c_vertex[0], d_vertex[0]], [c_vertex[1], d_vertex[1]], lw=5, label='Groove Top')\n",
    "\n",
    "# Plot the incoming rays\n",
    "plt.plot([c_vertex[0], ray1_vertex[0]], [c_vertex[1], ray1_vertex[1]], \n",
    "         color='#ff4600', lw=2, label='Incoming Rays')\n",
    "plt.plot([c_vertex[0]+B_micron, ray1_vertex[0]+B_micron], [c_vertex[1], ray1_vertex[1]], \n",
    "         color='#ff4600', lw=2)\n",
    "plt.plot([c_vertex[0]+B_micron, -ray1_vertex[0]+B_micron], [c_vertex[1], -ray1_vertex[1]], \n",
    "         color='#ff4600', lw=2, linestyle='dotted', label='Marginal Ray')\n",
    "\n",
    "plt.text(B_micron/2, 1, 'A')\n",
    "plt.text(b_vertex[0]-2, b_vertex[1]-2, r'$\\beta$')\n",
    "plt.text(2,-1, r'$\\gamma$')\n",
    "plt.text(17,-5, 'h')\n",
    "plt.text(2,-4, 'w')\n",
    "plt.text(+7,-4, r'$\\phi$')\n",
    "plt.text(+14,-1, r'$\\omega$')\n",
    "\n",
    "\n",
    "plt.plot([0.0, 0.0], [0.0, 15], linewidth=2, color='k', marker='^', markersize=10)\n",
    "\n",
    "plt.axhline(0.0, linestyle='dashed', color='k', alpha=0.5)\n",
    "\n",
    "plt.xlim(-20, 30)\n",
    "plt.ylim(-20, 30)\n",
    "plt.xlabel('$x$ ($\\mu$m)');\n",
    "plt.ylabel('$y$ ($\\mu$m)')\n",
    "plt.legend();"
   ]
  },
  {
   "cell_type": "markdown",
   "id": "6a605531",
   "metadata": {},
   "source": [
    "We have $\\gamma$, and $\\beta$, so we can get $\\alpha$:"
   ]
  },
  {
   "cell_type": "code",
   "execution_count": 21,
   "id": "c670cbd5",
   "metadata": {},
   "outputs": [],
   "source": [
    "gamma_degrees = c_degrees"
   ]
  },
  {
   "cell_type": "code",
   "execution_count": 22,
   "id": "14727eb0",
   "metadata": {},
   "outputs": [],
   "source": [
    "omega_degrees = 90 - np.abs(incidence_angle_degrees)\n",
    "omega_radians = np.radians(omega_degrees)"
   ]
  },
  {
   "cell_type": "code",
   "execution_count": 23,
   "id": "81ce63fe",
   "metadata": {},
   "outputs": [],
   "source": [
    "phi_degrees = 180 - omega_degrees - gamma_degrees\n",
    "phi_radians = np.radians(phi_degrees)"
   ]
  },
  {
   "cell_type": "markdown",
   "id": "bede2e04",
   "metadata": {},
   "source": [
    "We want to find the length of the linesegment.  Let's use angle-side-angle `ASA`:\n",
    "\n",
    "$$\\frac{\\sin{\\phi}}{A} \\,=\\, \\frac{\\sin{\\omega}}{w} \\,=\\, \\frac{\\sin{\\gamma}}{\\mathrm{undef}}$$\n",
    "\n",
    "solve for $w$:\n",
    "\n",
    "$$w \\,=\\, A \\frac{\\sin{\\omega}}{\\sin{\\phi}}$$\n"
   ]
  },
  {
   "cell_type": "code",
   "execution_count": 24,
   "id": "3e08da1e",
   "metadata": {},
   "outputs": [],
   "source": [
    "w_micron = A_micron * np.sin(omega_radians)/np.sin(phi_radians)"
   ]
  },
  {
   "cell_type": "code",
   "execution_count": 25,
   "id": "e76c05bc",
   "metadata": {},
   "outputs": [
    {
     "data": {
      "text/plain": [
       "12.481488185199067"
      ]
     },
     "execution_count": 25,
     "metadata": {},
     "output_type": "execute_result"
    }
   ],
   "source": [
    "w_micron"
   ]
  },
  {
   "cell_type": "markdown",
   "id": "1295c5e6",
   "metadata": {},
   "source": [
    "Yay! We did it!"
   ]
  }
 ],
 "metadata": {
  "kernelspec": {
   "display_name": "Python 3 (ipykernel)",
   "language": "python",
   "name": "python3"
  },
  "language_info": {
   "codemirror_mode": {
    "name": "ipython",
    "version": 3
   },
   "file_extension": ".py",
   "mimetype": "text/x-python",
   "name": "python",
   "nbconvert_exporter": "python",
   "pygments_lexer": "ipython3",
   "version": "3.8.11"
  }
 },
 "nbformat": 4,
 "nbformat_minor": 5
}
