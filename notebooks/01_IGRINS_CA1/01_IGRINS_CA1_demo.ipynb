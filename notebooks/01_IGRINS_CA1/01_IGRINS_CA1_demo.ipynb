{
 "cells": [
  {
   "cell_type": "markdown",
   "id": "040b5a42",
   "metadata": {},
   "source": [
    "# IGRINS CA1 demo\n",
    "\n",
    "Here we demonstrate the diffraction theory of CA-1, the IGRINS immersion grating."
   ]
  },
  {
   "cell_type": "code",
   "execution_count": 1,
   "id": "9a5df9a9",
   "metadata": {},
   "outputs": [],
   "source": [
    "import matplotlib.pyplot as plt\n",
    "import numpy as np\n",
    "\n",
    "%config InlineBackend.figure_format='retina'"
   ]
  },
  {
   "cell_type": "markdown",
   "id": "8a3dffcf",
   "metadata": {},
   "source": [
    "### Fixed physical properties"
   ]
  },
  {
   "cell_type": "code",
   "execution_count": 2,
   "id": "08162158",
   "metadata": {},
   "outputs": [],
   "source": [
    "sigma = 27.36 # micron"
   ]
  },
  {
   "cell_type": "code",
   "execution_count": 3,
   "id": "a5016a48",
   "metadata": {},
   "outputs": [],
   "source": [
    "groove_top_width = 9.95 # micron"
   ]
  },
  {
   "cell_type": "code",
   "execution_count": 4,
   "id": "02dcce4e",
   "metadata": {},
   "outputs": [
    {
     "data": {
      "text/plain": [
       "71.56505117707799"
      ]
     },
     "execution_count": 4,
     "metadata": {},
     "output_type": "execute_result"
    }
   ],
   "source": [
    "blaze_angle_radians = np.arctan(3) # radians\n",
    "blaze_angle_degrees = np.degrees(blaze_angle_radians)\n",
    "blaze_angle_degrees"
   ]
  },
  {
   "cell_type": "markdown",
   "id": "dffcdd5a",
   "metadata": {},
   "source": [
    "Assume testing in back-surface reflection in visible light!"
   ]
  },
  {
   "cell_type": "code",
   "execution_count": 5,
   "id": "7c288511",
   "metadata": {},
   "outputs": [],
   "source": [
    "wavelength_micron = 0.632 # micron"
   ]
  },
  {
   "cell_type": "code",
   "execution_count": 6,
   "id": "847099dc",
   "metadata": {},
   "outputs": [],
   "source": [
    "beam_size_mm = 0.5 # mm"
   ]
  },
  {
   "cell_type": "markdown",
   "id": "908344af",
   "metadata": {},
   "source": [
    "### Compute the diffraction from a mirror\n",
    "\n",
    "The width of the diffraction peak depends on the size of the mirror."
   ]
  },
  {
   "cell_type": "code",
   "execution_count": 7,
   "id": "e98d2a5c",
   "metadata": {},
   "outputs": [
    {
     "data": {
      "text/plain": [
       "0.07242188458923733"
      ]
     },
     "execution_count": 7,
     "metadata": {},
     "output_type": "execute_result"
    }
   ],
   "source": [
    "beam_size_radians = np.arcsin(wavelength_micron / (beam_size_mm * 1000.0))\n",
    "beam_size_degrees = np.degrees(beam_size_radians)\n",
    "beam_size_degrees"
   ]
  },
  {
   "cell_type": "markdown",
   "id": "86395440",
   "metadata": {},
   "source": [
    "### Set the angular sampling\n",
    "\n",
    "We want a number that has about 10 steps per beamsize."
   ]
  },
  {
   "cell_type": "code",
   "execution_count": 8,
   "id": "b094e41d",
   "metadata": {},
   "outputs": [],
   "source": [
    "degrees_per_step = 0.002 # degrees"
   ]
  },
  {
   "cell_type": "code",
   "execution_count": 9,
   "id": "766f50ff",
   "metadata": {},
   "outputs": [],
   "source": [
    "angular_grid_degrees = np.arange(-90, 90, degrees_per_step)\n",
    "angular_grid_radians = np.radians(angular_grid_degrees)"
   ]
  },
  {
   "cell_type": "code",
   "execution_count": 10,
   "id": "e5423287",
   "metadata": {},
   "outputs": [
    {
     "data": {
      "text/plain": [
       "90000"
      ]
     },
     "execution_count": 10,
     "metadata": {},
     "output_type": "execute_result"
    }
   ],
   "source": [
    "n_steps = len(angular_grid_degrees)\n",
    "n_steps"
   ]
  },
  {
   "cell_type": "markdown",
   "id": "0844dd5b",
   "metadata": {},
   "source": [
    "### Visualize diffraction from the mirror\n",
    "The mirror looks just like a single slit.\n",
    "\n",
    "$I(\\theta)/I_0 = \\operatorname{sinc}^2 \\left[ \\frac{d \\pi}{\\lambda} (\\sin\\theta)\\right]$\n"
   ]
  },
  {
   "cell_type": "code",
   "execution_count": 11,
   "id": "df028eb2",
   "metadata": {},
   "outputs": [],
   "source": [
    "rhs_argument = (beam_size_mm*1000.0)*np.pi/(wavelength_micron)*np.sin(angular_grid_radians)"
   ]
  },
  {
   "cell_type": "code",
   "execution_count": 12,
   "id": "5f876f28",
   "metadata": {},
   "outputs": [],
   "source": [
    "rhs = np.sinc(rhs_argument)**2"
   ]
  },
  {
   "cell_type": "code",
   "execution_count": 13,
   "id": "9fca74c1",
   "metadata": {},
   "outputs": [],
   "source": [
    "mirror_flux = rhs"
   ]
  },
  {
   "cell_type": "code",
   "execution_count": 14,
   "id": "be97bb31",
   "metadata": {},
   "outputs": [
    {
     "data": {
      "image/png": "[encoded data removed]",
      "text/plain": [
       "<Figure size 432x288 with 1 Axes>"
      ]
     },
     "metadata": {
      "image/png": {
       "height": 278,
       "width": 417
      },
      "needs_background": "light"
     },
     "output_type": "display_data"
    }
   ],
   "source": [
    "plt.step(angular_grid_degrees, mirror_flux)\n",
    "plt.xlim(-0.2, 0.2);\n",
    "plt.xlabel(r'$\\theta \\; (^\\circ)$')\n",
    "plt.ylabel(r'$\\frac{I(\\theta)}{I_0}$', fontsize=18)\n",
    "plt.title('Diffraction from a {:.0f} mm mirror'.format(beam_size_mm) );"
   ]
  },
  {
   "cell_type": "markdown",
   "id": "fd4170e8",
   "metadata": {},
   "source": [
    "### Calculate the groove-top diffraction\n",
    "\n",
    "We will assume that the grating is just a series of slits and voids (ignore the Si facet for now).\n",
    "\n",
    "Rather than calculate which diffraction orders are physically possible, we will simply guess that there are fewer than 50 diffraction orders.  If your number of actual orders is larger than this number you will have to change update the line below."
   ]
  },
  {
   "cell_type": "code",
   "execution_count": 15,
   "id": "570d35bd",
   "metadata": {},
   "outputs": [],
   "source": [
    "max_m = 50"
   ]
  },
  {
   "cell_type": "code",
   "execution_count": 16,
   "id": "8bf84172",
   "metadata": {},
   "outputs": [],
   "source": [
    "m_vector = np.arange(-max_m, max_m+1, 1)"
   ]
  },
  {
   "cell_type": "markdown",
   "id": "8288d0aa",
   "metadata": {},
   "source": [
    "Set the angle-of-incidence.  For now just assume normal incidence."
   ]
  },
  {
   "cell_type": "code",
   "execution_count": 17,
   "id": "4bb34e00",
   "metadata": {},
   "outputs": [],
   "source": [
    "theta_i = 0.0"
   ]
  },
  {
   "cell_type": "markdown",
   "id": "ebf50b29",
   "metadata": {},
   "source": [
    "Now we compute the angles of the peak of diffraction for the input wavelength:"
   ]
  },
  {
   "cell_type": "code",
   "execution_count": 18,
   "id": "4c710538",
   "metadata": {},
   "outputs": [
    {
     "name": "stderr",
     "output_type": "stream",
     "text": [
      "/var/folders/gb/yvbtr8b57pd1nzzxk3t_zwfsxgvdgb/T/ipykernel_24943/1838490870.py:1: RuntimeWarning: invalid value encountered in arcsin\n",
      "  theta_m_radians = np.arcsin(m_vector*(wavelength_micron)/sigma)\n"
     ]
    }
   ],
   "source": [
    "theta_m_radians = np.arcsin(m_vector*(wavelength_micron)/sigma)"
   ]
  },
  {
   "cell_type": "markdown",
   "id": "63b6d8c6",
   "metadata": {},
   "source": [
    "The locations that are `NaN` indicate there is no physical order there and therefore indicates the largest realized diffraction order:"
   ]
  },
  {
   "cell_type": "code",
   "execution_count": 19,
   "id": "451c0efb",
   "metadata": {},
   "outputs": [],
   "source": [
    "finite_mask = np.isfinite(theta_m_radians)"
   ]
  },
  {
   "cell_type": "code",
   "execution_count": 20,
   "id": "e3711b02",
   "metadata": {},
   "outputs": [
    {
     "data": {
      "text/plain": [
       "43"
      ]
     },
     "execution_count": 20,
     "metadata": {},
     "output_type": "execute_result"
    }
   ],
   "source": [
    "np.max(m_vector[finite_mask])"
   ]
  },
  {
   "cell_type": "markdown",
   "id": "990f1352",
   "metadata": {},
   "source": [
    "The largest diffraction order at zero incidence, in immersion is 148.  "
   ]
  },
  {
   "cell_type": "markdown",
   "id": "cc019f42",
   "metadata": {},
   "source": [
    "### Visualize the unblazed diffraction from all of these orders\n",
    "\n",
    "Each order has a mirror-like diffraction centered on its $\\theta_m$, calculated above."
   ]
  },
  {
   "cell_type": "code",
   "execution_count": 21,
   "id": "4e8de8eb",
   "metadata": {},
   "outputs": [
    {
     "data": {
      "text/plain": [
       "(101,)"
      ]
     },
     "execution_count": 21,
     "metadata": {},
     "output_type": "execute_result"
    }
   ],
   "source": [
    "theta_m_radians.shape"
   ]
  },
  {
   "cell_type": "markdown",
   "id": "4fcd79fb",
   "metadata": {},
   "source": [
    "## Key idea:"
   ]
  },
  {
   "cell_type": "markdown",
   "id": "98f1893c",
   "metadata": {},
   "source": [
    "The $\\theta_m$ vector is $101 \\times 1$, it has to become a column vector ($1 \\times 101$) to make the [numpy array broadcasting](https://numpy.org/doc/stable/user/basics.broadcasting.html) work out:"
   ]
  },
  {
   "cell_type": "code",
   "execution_count": 22,
   "id": "6152119b",
   "metadata": {},
   "outputs": [
    {
     "data": {
      "text/plain": [
       "(1, 101)"
      ]
     },
     "execution_count": 22,
     "metadata": {},
     "output_type": "execute_result"
    }
   ],
   "source": [
    "theta_m_column = theta_m_radians[np.newaxis, :]\n",
    "theta_m_column.shape"
   ]
  },
  {
   "cell_type": "markdown",
   "id": "fd4d9bff",
   "metadata": {},
   "source": [
    "This will produce a matrix of size $n_{steps}\\times n_{m}$, which could exhaust your computer RAM, depending on the sizes of those vectors."
   ]
  },
  {
   "cell_type": "code",
   "execution_count": 23,
   "id": "4a959940",
   "metadata": {},
   "outputs": [],
   "source": [
    "rhs_argument = ((beam_size_mm*1000.0)*np.pi/(wavelength_micron)*\n",
    "                np.sin(angular_grid_radians[:, np.newaxis]-theta_m_column))"
   ]
  },
  {
   "cell_type": "code",
   "execution_count": 24,
   "id": "d2d290e0",
   "metadata": {},
   "outputs": [],
   "source": [
    "rhs = np.nan_to_num(np.sinc(rhs_argument)**2, nan=0.0)"
   ]
  },
  {
   "cell_type": "code",
   "execution_count": 25,
   "id": "49353799",
   "metadata": {},
   "outputs": [],
   "source": [
    "unblazed_groove_top_diffraction = np.sum(rhs, axis=1)"
   ]
  },
  {
   "cell_type": "markdown",
   "id": "b5db92d1",
   "metadata": {},
   "source": [
    "### Visualize the *blazed* diffraction from all of these orders\n",
    "\n",
    "Each order has a mirror-like diffraction centered on its $\\theta_m$, calculated above."
   ]
  },
  {
   "cell_type": "code",
   "execution_count": 26,
   "id": "dff7be89",
   "metadata": {},
   "outputs": [],
   "source": [
    "blaze_modulation = np.sinc((groove_top_width*np.pi/(wavelength_micron)*\n",
    "                np.sin(angular_grid_radians)))**2"
   ]
  },
  {
   "cell_type": "code",
   "execution_count": 27,
   "id": "9817ce02",
   "metadata": {},
   "outputs": [],
   "source": [
    "blazed_groove_top_diffraction = blaze_modulation * unblazed_groove_top_diffraction"
   ]
  },
  {
   "cell_type": "code",
   "execution_count": 28,
   "id": "68ddaaa6",
   "metadata": {},
   "outputs": [
    {
     "data": {
      "image/png": "[encoded data removed]",
      "text/plain": [
       "<Figure size 1008x288 with 1 Axes>"
      ]
     },
     "metadata": {
      "image/png": {
       "height": 278,
       "width": 852
      },
      "needs_background": "light"
     },
     "output_type": "display_data"
    }
   ],
   "source": [
    "plt.figure(figsize=(14, 4))\n",
    "plt.step(angular_grid_degrees, blazed_groove_top_diffraction)\n",
    "plt.step(angular_grid_degrees, blaze_modulation)\n",
    "plt.xlim(-5, 9)\n",
    "plt.xlabel(r'$\\theta \\; (^\\circ)$')\n",
    "plt.ylabel(r'$\\frac{I(\\theta)}{I_0}$', fontsize=18)\n",
    "plt.title('Blazed diffraction from IGRINS groove tops'.format(beam_size_mm) );"
   ]
  },
  {
   "cell_type": "markdown",
   "id": "eab3e024",
   "metadata": {},
   "source": [
    "Yay!"
   ]
  }
 ],
 "metadata": {
  "kernelspec": {
   "display_name": "Python 3 (ipykernel)",
   "language": "python",
   "name": "python3"
  },
  "language_info": {
   "codemirror_mode": {
    "name": "ipython",
    "version": 3
   },
   "file_extension": ".py",
   "mimetype": "text/x-python",
   "name": "python",
   "nbconvert_exporter": "python",
   "pygments_lexer": "ipython3",
   "version": "3.8.11"
  }
 },
 "nbformat": 4,
 "nbformat_minor": 5
}
