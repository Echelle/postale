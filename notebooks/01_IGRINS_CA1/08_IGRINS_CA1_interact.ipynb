{
 "cells": [
  {
   "cell_type": "markdown",
   "id": "040b5a42",
   "metadata": {},
   "source": [
    "# IGRINS CA1 geometry function\n",
    "\n",
    "Here we make a function that takes in grating properties and computes its properties."
   ]
  },
  {
   "cell_type": "code",
   "execution_count": 1,
   "id": "9a5df9a9",
   "metadata": {},
   "outputs": [],
   "source": [
    "import matplotlib.pyplot as plt\n",
    "import numpy as np\n",
    "\n",
    "%config InlineBackend.figure_format='retina'"
   ]
  },
  {
   "cell_type": "markdown",
   "id": "8a3dffcf",
   "metadata": {},
   "source": [
    "### Fixed physical properties"
   ]
  },
  {
   "cell_type": "code",
   "execution_count": 2,
   "id": "08162158",
   "metadata": {},
   "outputs": [],
   "source": [
    "sigma = 27.36 # micron"
   ]
  },
  {
   "cell_type": "code",
   "execution_count": 3,
   "id": "a5016a48",
   "metadata": {},
   "outputs": [],
   "source": [
    "groove_top_width = 9.95 # micron"
   ]
  },
  {
   "cell_type": "markdown",
   "id": "0e07ec69",
   "metadata": {},
   "source": [
    "Here is a cartoon of the IGRINS CA-1 grating from [this slideshow](https://speakerdeck.com/gully/ideas-for-metrology-of-silicon-diffractive-optics?slide=45)."
   ]
  },
  {
   "cell_type": "code",
   "execution_count": 4,
   "id": "61f83e2a",
   "metadata": {},
   "outputs": [
    {
     "data": {
      "text/html": [
       "<img src=\"../IGRINS_CA1_schematic.png\" width=300></img>\n"
      ],
      "text/plain": [
       "<IPython.core.display.HTML object>"
      ]
     },
     "metadata": {},
     "output_type": "display_data"
    }
   ],
   "source": [
    "%%html\n",
    "<img src=\"../IGRINS_CA1_schematic.png\" width=300></img>"
   ]
  },
  {
   "cell_type": "markdown",
   "id": "4943cc6d",
   "metadata": {},
   "source": [
    "The angle $a$ is the fixed $70.53^\\circ$ from the Si crystal planes, $b$ is $\\arctan{3}$, and c is whatever is left over to add up to 180."
   ]
  },
  {
   "cell_type": "code",
   "execution_count": 5,
   "id": "90c284ac",
   "metadata": {},
   "outputs": [],
   "source": [
    "a_degrees = 70.53 # \"Fixed\" Si crystal plane angle"
   ]
  },
  {
   "cell_type": "code",
   "execution_count": 6,
   "id": "ff9dd2e1",
   "metadata": {},
   "outputs": [],
   "source": [
    "b_degrees = np.degrees(np.arctan(3)) # Blaze angle"
   ]
  },
  {
   "cell_type": "markdown",
   "id": "3b33f4b2",
   "metadata": {},
   "source": [
    "## Create the function"
   ]
  },
  {
   "cell_type": "code",
   "execution_count": 7,
   "id": "094ccbda",
   "metadata": {},
   "outputs": [],
   "source": [
    "def grating_geometry(sigma, groove_top_width, b_degrees, a_degrees):\n",
    "    \"\"\"Compute the grating groove geometry from math\n",
    "    \n",
    "    Parameters:\n",
    "    ----------\n",
    "    \n",
    "    sigma (micron): \n",
    "        grating groove spacing or \"groove constant\"\n",
    "    groove_top_width (micron):\n",
    "        Si grating groove top width defined by UV photomask chrome stripes\n",
    "    b_degrees (degrees):\n",
    "        The b angle from Figure 1 above, often the blaze angle\n",
    "    a_degrees (degrees):\n",
    "        The a angle from Figure 1 above, also called the Si apex angle\n",
    "    \"\"\"\n",
    "    \n",
    "    c_degrees = 180 - a_degrees - b_degrees # Complement must add up to 180\n",
    "    \n",
    "    a_radians, b_radians, c_radians = (np.radians(angle) for angle in \n",
    "                                   [a_degrees, b_degrees, c_degrees])\n",
    "    \n",
    "    # Compute the line segments A, B, C with the Law of Sines:\n",
    "    A_micron = sigma - groove_top_width\n",
    "    \n",
    "    fixed_ratio = np.sin(a_radians) / A_micron\n",
    "    B_micron = np.sin(b_radians) / fixed_ratio\n",
    "    C_micron = np.sin(c_radians) / fixed_ratio\n",
    "    \n",
    "    # Compute the vertices, define vertex `c` as the origin\n",
    "    c_vertex = np.array([0.0, 0.0])\n",
    "    b_vertex = c_vertex + np.array([B_micron, 0.0])\n",
    "    a_vertex = np.array([B_micron*np.cos(c_radians), -B_micron*np.sin(c_radians)])\n",
    "    \n",
    "    # Define one other key point, the coordinate of the start of the groove top.\n",
    "    d_vertex = np.array([-groove_top_width, 0.0])\n",
    "    \n",
    "    return {'angle_degrees':(a_degrees, b_degrees, c_degrees),\n",
    "            'angle_radians':(a_radians, b_radians, c_radians),\n",
    "            'segments_micron':(A_micron, B_micron, C_micron),\n",
    "           'vertices_micron':(a_vertex, b_vertex, c_vertex, d_vertex),\n",
    "           'B_x_coordinates': [c_vertex[0], a_vertex[0]],\n",
    "           'B_y_coordinates': [c_vertex[1], a_vertex[1]],\n",
    "            'C_x_coordinates':[a_vertex[0], b_vertex[0]], \n",
    "            'C_y_coordinates':[a_vertex[1], b_vertex[1]]\n",
    "           }"
   ]
  },
  {
   "cell_type": "code",
   "execution_count": 8,
   "id": "bb91871f",
   "metadata": {},
   "outputs": [],
   "source": [
    "geometry_dict = grating_geometry(sigma, groove_top_width, b_degrees, a_degrees)"
   ]
  },
  {
   "cell_type": "code",
   "execution_count": 23,
   "id": "05f4681c",
   "metadata": {},
   "outputs": [],
   "source": [
    "bokeh_input = {key:np.array(geometry_dict[key]) for key in ['B_x_coordinates', 'B_y_coordinates', \n",
    "                                              'C_x_coordinates', 'C_y_coordinates']}"
   ]
  },
  {
   "cell_type": "markdown",
   "id": "ff3be9f8",
   "metadata": {},
   "source": [
    "## Add a bokeh interactive dashboard"
   ]
  },
  {
   "cell_type": "code",
   "execution_count": 10,
   "id": "427224d0",
   "metadata": {},
   "outputs": [],
   "source": [
    "from bokeh.io import show, output_notebook, push_notebook\n",
    "from bokeh.plotting import figure, ColumnDataSource\n",
    "from bokeh.models import Slider, Span, Range1d, Dropdown\n",
    "from bokeh.layouts import layout, Spacer\n",
    "from bokeh.models.widgets import Button, Div"
   ]
  },
  {
   "cell_type": "code",
   "execution_count": 26,
   "id": "6bb3f7c7",
   "metadata": {},
   "outputs": [
    {
     "data": {
      "text/plain": [
       "{'B_x_coordinates': array([ 0.        , 13.82251582]),\n",
       " 'B_y_coordinates': array([  0.        , -10.76245254]),\n",
       " 'C_x_coordinates': array([13.82251582, 17.51834262]),\n",
       " 'C_y_coordinates': array([-10.76245254,   0.        ])}"
      ]
     },
     "execution_count": 26,
     "metadata": {},
     "output_type": "execute_result"
    }
   ],
   "source": [
    "bokeh_input"
   ]
  },
  {
   "cell_type": "code",
   "execution_count": 33,
   "id": "8c8d427e",
   "metadata": {
    "scrolled": true
   },
   "outputs": [
    {
     "data": {
      "application/javascript": [
       "\n",
       "(function(root) {\n",
       "  function now() {\n",
       "    return new Date();\n",
       "  }\n",
       "\n",
       "  const force = true;\n",
       "\n",
       "  if (typeof root._bokeh_onload_callbacks === \"undefined\" || force === true) {\n",
       "    root._bokeh_onload_callbacks = [];\n",
       "    root._bokeh_is_loading = undefined;\n",
       "  }\n",
       "\n",
       "  const JS_MIME_TYPE = 'application/javascript';\n",
       "  const HTML_MIME_TYPE = 'text/html';\n",
       "  const EXEC_MIME_TYPE = 'application/vnd.bokehjs_exec.v0+json';\n",
       "  const CLASS_NAME = 'output_bokeh rendered_html';\n",
       "\n",
       "  /**\n",
       "   * Render data to the DOM node\n",
       "   */\n",
       "  function render(props, node) {\n",
       "    const script = document.createElement(\"script\");\n",
       "    node.appendChild(script);\n",
       "  }\n",
       "\n",
       "  /**\n",
       "   * Handle when an output is cleared or removed\n",
       "   */\n",
       "  function handleClearOutput(event, handle) {\n",
       "    const cell = handle.cell;\n",
       "\n",
       "    const id = cell.output_area._bokeh_element_id;\n",
       "    const server_id = cell.output_area._bokeh_server_id;\n",
       "    // Clean up Bokeh references\n",
       "    if (id != null && id in Bokeh.index) {\n",
       "      Bokeh.index[id].model.document.clear();\n",
       "      delete Bokeh.index[id];\n",
       "    }\n",
       "\n",
       "    if (server_id !== undefined) {\n",
       "      // Clean up Bokeh references\n",
       "      const cmd_clean = \"from bokeh.io.state import curstate; print(curstate().uuid_to_server['\" + server_id + \"'].get_sessions()[0].document.roots[0]._id)\";\n",
       "      cell.notebook.kernel.execute(cmd_clean, {\n",
       "        iopub: {\n",
       "          output: function(msg) {\n",
       "            const id = msg.content.text.trim();\n",
       "            if (id in Bokeh.index) {\n",
       "              Bokeh.index[id].model.document.clear();\n",
       "              delete Bokeh.index[id];\n",
       "            }\n",
       "          }\n",
       "        }\n",
       "      });\n",
       "      // Destroy server and session\n",
       "      const cmd_destroy = \"import bokeh.io.notebook as ion; ion.destroy_server('\" + server_id + \"')\";\n",
       "      cell.notebook.kernel.execute(cmd_destroy);\n",
       "    }\n",
       "  }\n",
       "\n",
       "  /**\n",
       "   * Handle when a new output is added\n",
       "   */\n",
       "  function handleAddOutput(event, handle) {\n",
       "    const output_area = handle.output_area;\n",
       "    const output = handle.output;\n",
       "\n",
       "    // limit handleAddOutput to display_data with EXEC_MIME_TYPE content only\n",
       "    if ((output.output_type != \"display_data\") || (!Object.prototype.hasOwnProperty.call(output.data, EXEC_MIME_TYPE))) {\n",
       "      return\n",
       "    }\n",
       "\n",
       "    const toinsert = output_area.element.find(\".\" + CLASS_NAME.split(' ')[0]);\n",
       "\n",
       "    if (output.metadata[EXEC_MIME_TYPE][\"id\"] !== undefined) {\n",
       "      toinsert[toinsert.length - 1].firstChild.textContent = output.data[JS_MIME_TYPE];\n",
       "      // store reference to embed id on output_area\n",
       "      output_area._bokeh_element_id = output.metadata[EXEC_MIME_TYPE][\"id\"];\n",
       "    }\n",
       "    if (output.metadata[EXEC_MIME_TYPE][\"server_id\"] !== undefined) {\n",
       "      const bk_div = document.createElement(\"div\");\n",
       "      bk_div.innerHTML = output.data[HTML_MIME_TYPE];\n",
       "      const script_attrs = bk_div.children[0].attributes;\n",
       "      for (let i = 0; i < script_attrs.length; i++) {\n",
       "        toinsert[toinsert.length - 1].firstChild.setAttribute(script_attrs[i].name, script_attrs[i].value);\n",
       "        toinsert[toinsert.length - 1].firstChild.textContent = bk_div.children[0].textContent\n",
       "      }\n",
       "      // store reference to server id on output_area\n",
       "      output_area._bokeh_server_id = output.metadata[EXEC_MIME_TYPE][\"server_id\"];\n",
       "    }\n",
       "  }\n",
       "\n",
       "  function register_renderer(events, OutputArea) {\n",
       "\n",
       "    function append_mime(data, metadata, element) {\n",
       "      // create a DOM node to render to\n",
       "      const toinsert = this.create_output_subarea(\n",
       "        metadata,\n",
       "        CLASS_NAME,\n",
       "        EXEC_MIME_TYPE\n",
       "      );\n",
       "      this.keyboard_manager.register_events(toinsert);\n",
       "      // Render to node\n",
       "      const props = {data: data, metadata: metadata[EXEC_MIME_TYPE]};\n",
       "      render(props, toinsert[toinsert.length - 1]);\n",
       "      element.append(toinsert);\n",
       "      return toinsert\n",
       "    }\n",
       "\n",
       "    /* Handle when an output is cleared or removed */\n",
       "    events.on('clear_output.CodeCell', handleClearOutput);\n",
       "    events.on('delete.Cell', handleClearOutput);\n",
       "\n",
       "    /* Handle when a new output is added */\n",
       "    events.on('output_added.OutputArea', handleAddOutput);\n",
       "\n",
       "    /**\n",
       "     * Register the mime type and append_mime function with output_area\n",
       "     */\n",
       "    OutputArea.prototype.register_mime_type(EXEC_MIME_TYPE, append_mime, {\n",
       "      /* Is output safe? */\n",
       "      safe: true,\n",
       "      /* Index of renderer in `output_area.display_order` */\n",
       "      index: 0\n",
       "    });\n",
       "  }\n",
       "\n",
       "  // register the mime type if in Jupyter Notebook environment and previously unregistered\n",
       "  if (root.Jupyter !== undefined) {\n",
       "    const events = require('base/js/events');\n",
       "    const OutputArea = require('notebook/js/outputarea').OutputArea;\n",
       "\n",
       "    if (OutputArea.prototype.mime_types().indexOf(EXEC_MIME_TYPE) == -1) {\n",
       "      register_renderer(events, OutputArea);\n",
       "    }\n",
       "  }\n",
       "\n",
       "  \n",
       "  if (typeof (root._bokeh_timeout) === \"undefined\" || force === true) {\n",
       "    root._bokeh_timeout = Date.now() + 5000;\n",
       "    root._bokeh_failed_load = false;\n",
       "  }\n",
       "\n",
       "  const NB_LOAD_WARNING = {'data': {'text/html':\n",
       "     \"<div style='background-color: #fdd'>\\n\"+\n",
       "     \"<p>\\n\"+\n",
       "     \"BokehJS does not appear to have successfully loaded. If loading BokehJS from CDN, this \\n\"+\n",
       "     \"may be due to a slow or bad network connection. Possible fixes:\\n\"+\n",
       "     \"</p>\\n\"+\n",
       "     \"<ul>\\n\"+\n",
       "     \"<li>re-rerun `output_notebook()` to attempt to load from CDN again, or</li>\\n\"+\n",
       "     \"<li>use INLINE resources instead, as so:</li>\\n\"+\n",
       "     \"</ul>\\n\"+\n",
       "     \"<code>\\n\"+\n",
       "     \"from bokeh.resources import INLINE\\n\"+\n",
       "     \"output_notebook(resources=INLINE)\\n\"+\n",
       "     \"</code>\\n\"+\n",
       "     \"</div>\"}};\n",
       "\n",
       "  function display_loaded() {\n",
       "    const el = document.getElementById(null);\n",
       "    if (el != null) {\n",
       "      el.textContent = \"BokehJS is loading...\";\n",
       "    }\n",
       "    if (root.Bokeh !== undefined) {\n",
       "      if (el != null) {\n",
       "        el.textContent = \"BokehJS \" + root.Bokeh.version + \" successfully loaded.\";\n",
       "      }\n",
       "    } else if (Date.now() < root._bokeh_timeout) {\n",
       "      setTimeout(display_loaded, 100)\n",
       "    }\n",
       "  }\n",
       "\n",
       "\n",
       "  function run_callbacks() {\n",
       "    try {\n",
       "      root._bokeh_onload_callbacks.forEach(function(callback) {\n",
       "        if (callback != null)\n",
       "          callback();\n",
       "      });\n",
       "    } finally {\n",
       "      delete root._bokeh_onload_callbacks\n",
       "    }\n",
       "    console.debug(\"Bokeh: all callbacks have finished\");\n",
       "  }\n",
       "\n",
       "  function load_libs(css_urls, js_urls, callback) {\n",
       "    if (css_urls == null) css_urls = [];\n",
       "    if (js_urls == null) js_urls = [];\n",
       "\n",
       "    root._bokeh_onload_callbacks.push(callback);\n",
       "    if (root._bokeh_is_loading > 0) {\n",
       "      console.debug(\"Bokeh: BokehJS is being loaded, scheduling callback at\", now());\n",
       "      return null;\n",
       "    }\n",
       "    if (js_urls == null || js_urls.length === 0) {\n",
       "      run_callbacks();\n",
       "      return null;\n",
       "    }\n",
       "    console.debug(\"Bokeh: BokehJS not loaded, scheduling load and callback at\", now());\n",
       "    root._bokeh_is_loading = css_urls.length + js_urls.length;\n",
       "\n",
       "    function on_load() {\n",
       "      root._bokeh_is_loading--;\n",
       "      if (root._bokeh_is_loading === 0) {\n",
       "        console.debug(\"Bokeh: all BokehJS libraries/stylesheets loaded\");\n",
       "        run_callbacks()\n",
       "      }\n",
       "    }\n",
       "\n",
       "    function on_error(url) {\n",
       "      console.error(\"failed to load \" + url);\n",
       "    }\n",
       "\n",
       "    for (let i = 0; i < css_urls.length; i++) {\n",
       "      const url = css_urls[i];\n",
       "      const element = document.createElement(\"link\");\n",
       "      element.onload = on_load;\n",
       "      element.onerror = on_error.bind(null, url);\n",
       "      element.rel = \"stylesheet\";\n",
       "      element.type = \"text/css\";\n",
       "      element.href = url;\n",
       "      console.debug(\"Bokeh: injecting link tag for BokehJS stylesheet: \", url);\n",
       "      document.body.appendChild(element);\n",
       "    }\n",
       "\n",
       "    for (let i = 0; i < js_urls.length; i++) {\n",
       "      const url = js_urls[i];\n",
       "      const element = document.createElement('script');\n",
       "      element.onload = on_load;\n",
       "      element.onerror = on_error.bind(null, url);\n",
       "      element.async = false;\n",
       "      element.src = url;\n",
       "      console.debug(\"Bokeh: injecting script tag for BokehJS library: \", url);\n",
       "      document.head.appendChild(element);\n",
       "    }\n",
       "  };\n",
       "\n",
       "  function inject_raw_css(css) {\n",
       "    const element = document.createElement(\"style\");\n",
       "    element.appendChild(document.createTextNode(css));\n",
       "    document.body.appendChild(element);\n",
       "  }\n",
       "\n",
       "  \n",
       "  const js_urls = [\"https://cdn.bokeh.org/bokeh/release/bokeh-2.4.2.min.js\", \"https://cdn.bokeh.org/bokeh/release/bokeh-gl-2.4.2.min.js\", \"https://cdn.bokeh.org/bokeh/release/bokeh-widgets-2.4.2.min.js\", \"https://cdn.bokeh.org/bokeh/release/bokeh-tables-2.4.2.min.js\", \"https://cdn.bokeh.org/bokeh/release/bokeh-mathjax-2.4.2.min.js\"];\n",
       "  const css_urls = [];\n",
       "  \n",
       "\n",
       "  const inline_js = [\n",
       "    function(Bokeh) {\n",
       "      Bokeh.set_log_level(\"info\");\n",
       "    },\n",
       "    function(Bokeh) {\n",
       "    \n",
       "    \n",
       "    }\n",
       "  ];\n",
       "\n",
       "  function run_inline_js() {\n",
       "    \n",
       "    if (root.Bokeh !== undefined || force === true) {\n",
       "      \n",
       "    for (let i = 0; i < inline_js.length; i++) {\n",
       "      inline_js[i].call(root, root.Bokeh);\n",
       "    }\n",
       "    } else if (Date.now() < root._bokeh_timeout) {\n",
       "      setTimeout(run_inline_js, 100);\n",
       "    } else if (!root._bokeh_failed_load) {\n",
       "      console.log(\"Bokeh: BokehJS failed to load within specified timeout.\");\n",
       "      root._bokeh_failed_load = true;\n",
       "    } else if (force !== true) {\n",
       "      const cell = $(document.getElementById(null)).parents('.cell').data().cell;\n",
       "      cell.output_area.append_execute_result(NB_LOAD_WARNING)\n",
       "    }\n",
       "\n",
       "  }\n",
       "\n",
       "  if (root._bokeh_is_loading === 0) {\n",
       "    console.debug(\"Bokeh: BokehJS loaded, going straight to plotting\");\n",
       "    run_inline_js();\n",
       "  } else {\n",
       "    load_libs(css_urls, js_urls, function() {\n",
       "      console.debug(\"Bokeh: BokehJS plotting callback run at\", now());\n",
       "      run_inline_js();\n",
       "    });\n",
       "  }\n",
       "}(window));"
      ],
      "application/vnd.bokehjs_load.v0+json": "\n(function(root) {\n  function now() {\n    return new Date();\n  }\n\n  const force = true;\n\n  if (typeof root._bokeh_onload_callbacks === \"undefined\" || force === true) {\n    root._bokeh_onload_callbacks = [];\n    root._bokeh_is_loading = undefined;\n  }\n\n  \n\n  \n  if (typeof (root._bokeh_timeout) === \"undefined\" || force === true) {\n    root._bokeh_timeout = Date.now() + 5000;\n    root._bokeh_failed_load = false;\n  }\n\n  const NB_LOAD_WARNING = {'data': {'text/html':\n     \"<div style='background-color: #fdd'>\\n\"+\n     \"<p>\\n\"+\n     \"BokehJS does not appear to have successfully loaded. If loading BokehJS from CDN, this \\n\"+\n     \"may be due to a slow or bad network connection. Possible fixes:\\n\"+\n     \"</p>\\n\"+\n     \"<ul>\\n\"+\n     \"<li>re-rerun `output_notebook()` to attempt to load from CDN again, or</li>\\n\"+\n     \"<li>use INLINE resources instead, as so:</li>\\n\"+\n     \"</ul>\\n\"+\n     \"<code>\\n\"+\n     \"from bokeh.resources import INLINE\\n\"+\n     \"output_notebook(resources=INLINE)\\n\"+\n     \"</code>\\n\"+\n     \"</div>\"}};\n\n  function display_loaded() {\n    const el = document.getElementById(null);\n    if (el != null) {\n      el.textContent = \"BokehJS is loading...\";\n    }\n    if (root.Bokeh !== undefined) {\n      if (el != null) {\n        el.textContent = \"BokehJS \" + root.Bokeh.version + \" successfully loaded.\";\n      }\n    } else if (Date.now() < root._bokeh_timeout) {\n      setTimeout(display_loaded, 100)\n    }\n  }\n\n\n  function run_callbacks() {\n    try {\n      root._bokeh_onload_callbacks.forEach(function(callback) {\n        if (callback != null)\n          callback();\n      });\n    } finally {\n      delete root._bokeh_onload_callbacks\n    }\n    console.debug(\"Bokeh: all callbacks have finished\");\n  }\n\n  function load_libs(css_urls, js_urls, callback) {\n    if (css_urls == null) css_urls = [];\n    if (js_urls == null) js_urls = [];\n\n    root._bokeh_onload_callbacks.push(callback);\n    if (root._bokeh_is_loading > 0) {\n      console.debug(\"Bokeh: BokehJS is being loaded, scheduling callback at\", now());\n      return null;\n    }\n    if (js_urls == null || js_urls.length === 0) {\n      run_callbacks();\n      return null;\n    }\n    console.debug(\"Bokeh: BokehJS not loaded, scheduling load and callback at\", now());\n    root._bokeh_is_loading = css_urls.length + js_urls.length;\n\n    function on_load() {\n      root._bokeh_is_loading--;\n      if (root._bokeh_is_loading === 0) {\n        console.debug(\"Bokeh: all BokehJS libraries/stylesheets loaded\");\n        run_callbacks()\n      }\n    }\n\n    function on_error(url) {\n      console.error(\"failed to load \" + url);\n    }\n\n    for (let i = 0; i < css_urls.length; i++) {\n      const url = css_urls[i];\n      const element = document.createElement(\"link\");\n      element.onload = on_load;\n      element.onerror = on_error.bind(null, url);\n      element.rel = \"stylesheet\";\n      element.type = \"text/css\";\n      element.href = url;\n      console.debug(\"Bokeh: injecting link tag for BokehJS stylesheet: \", url);\n      document.body.appendChild(element);\n    }\n\n    for (let i = 0; i < js_urls.length; i++) {\n      const url = js_urls[i];\n      const element = document.createElement('script');\n      element.onload = on_load;\n      element.onerror = on_error.bind(null, url);\n      element.async = false;\n      element.src = url;\n      console.debug(\"Bokeh: injecting script tag for BokehJS library: \", url);\n      document.head.appendChild(element);\n    }\n  };\n\n  function inject_raw_css(css) {\n    const element = document.createElement(\"style\");\n    element.appendChild(document.createTextNode(css));\n    document.body.appendChild(element);\n  }\n\n  \n  const js_urls = [\"https://cdn.bokeh.org/bokeh/release/bokeh-2.4.2.min.js\", \"https://cdn.bokeh.org/bokeh/release/bokeh-gl-2.4.2.min.js\", \"https://cdn.bokeh.org/bokeh/release/bokeh-widgets-2.4.2.min.js\", \"https://cdn.bokeh.org/bokeh/release/bokeh-tables-2.4.2.min.js\", \"https://cdn.bokeh.org/bokeh/release/bokeh-mathjax-2.4.2.min.js\"];\n  const css_urls = [];\n  \n\n  const inline_js = [\n    function(Bokeh) {\n      Bokeh.set_log_level(\"info\");\n    },\n    function(Bokeh) {\n    \n    \n    }\n  ];\n\n  function run_inline_js() {\n    \n    if (root.Bokeh !== undefined || force === true) {\n      \n    for (let i = 0; i < inline_js.length; i++) {\n      inline_js[i].call(root, root.Bokeh);\n    }\n    } else if (Date.now() < root._bokeh_timeout) {\n      setTimeout(run_inline_js, 100);\n    } else if (!root._bokeh_failed_load) {\n      console.log(\"Bokeh: BokehJS failed to load within specified timeout.\");\n      root._bokeh_failed_load = true;\n    } else if (force !== true) {\n      const cell = $(document.getElementById(null)).parents('.cell').data().cell;\n      cell.output_area.append_execute_result(NB_LOAD_WARNING)\n    }\n\n  }\n\n  if (root._bokeh_is_loading === 0) {\n    console.debug(\"Bokeh: BokehJS loaded, going straight to plotting\");\n    run_inline_js();\n  } else {\n    load_libs(css_urls, js_urls, function() {\n      console.debug(\"Bokeh: BokehJS plotting callback run at\", now());\n      run_inline_js();\n    });\n  }\n}(window));"
     },
     "metadata": {},
     "output_type": "display_data"
    },
    {
     "data": {
      "application/vnd.bokehjs_exec.v0+json": "",
      "text/html": [
       "\n",
       "<script id=\"11621\">\n",
       "  (function() {\n",
       "    const xhr = new XMLHttpRequest()\n",
       "    xhr.responseType = 'blob';\n",
       "    xhr.open('GET', \"http://localhost:50628/autoload.js?bokeh-autoload-element=11621&bokeh-absolute-url=http://localhost:50628&resources=none\", true);\n",
       "    \n",
       "    xhr.onload = function (event) {\n",
       "      const script = document.createElement('script');\n",
       "      const src = URL.createObjectURL(event.target.response);\n",
       "      script.src = src;\n",
       "      document.body.appendChild(script);\n",
       "    };\n",
       "    xhr.send();\n",
       "  })();\n",
       "</script>"
      ]
     },
     "metadata": {
      "application/vnd.bokehjs_exec.v0+json": {
       "server_id": "9f69a39fbb944f2a8eb12cad88f6cef9"
      }
     },
     "output_type": "display_data"
    }
   ],
   "source": [
    "def create_interact_ui(doc):\n",
    "\n",
    "    # Make the spectrum source\n",
    "\n",
    "    data_source = ColumnDataSource(data=bokeh_input)\n",
    "\n",
    "    fig = figure(\n",
    "        title=\"Si grating groove geometry\",\n",
    "        plot_height=340,\n",
    "        plot_width=600,\n",
    "        tools=\"pan,wheel_zoom,box_zoom,reset,save\",\n",
    "        toolbar_location=\"below\",\n",
    "        border_fill_color=\"whitesmoke\",\n",
    "    )\n",
    "    fig.title.offset = -10\n",
    "    fig.yaxis.axis_label = \"y (micron)\"\n",
    "    fig.xaxis.axis_label = \"x (micron)\"\n",
    "    fig.y_range = Range1d(start=-20, end=30)\n",
    "\n",
    "    fig.line(\n",
    "        \"B_x_coordinates\",\n",
    "        \"B_y_coordinates\",\n",
    "        line_width=2,\n",
    "        legend_label=\"B\",\n",
    "        source=data_source,\n",
    "    )\n",
    "\n",
    "    fig.x_range = Range1d(start=-20, end=30)\n",
    "\n",
    "    fig.line(\n",
    "        \"C_x_coordinates\",\n",
    "        \"C_y_coordinates\",\n",
    "        line_width=2,\n",
    "        legend_label=\"C\",\n",
    "        source=data_source,\n",
    "    )\n",
    "\n",
    "    fig.legend.location = \"top_left\"\n",
    "    fig.legend.orientation = \"horizontal\"\n",
    "\n",
    "    # Slider to decimate the data\n",
    "    blaze_slider = Slider(\n",
    "        start=65.0,\n",
    "        end=78.0,\n",
    "        value=71.5,\n",
    "        step=0.05,\n",
    "        title=\"Blaze Angle (Degrees)\",\n",
    "        width=490,\n",
    "    )\n",
    "    \n",
    "    # Slider for sigma\n",
    "    sigma_slider = Slider(\n",
    "        start=20.0,\n",
    "        end=35.0,\n",
    "        value=27.36,\n",
    "        step=0.05,\n",
    "        title=\"Groove Pitch (micron)\",\n",
    "        width=490,\n",
    "    )\n",
    "\n",
    "    def update_upon_blaze(attr, old, new):\n",
    "        \"\"\"Callback to take action when smoothing slider changes\"\"\"\n",
    "        geometry_dict = grating_geometry(sigma_slider.value, groove_top_width, new, a_degrees)\n",
    "        bokeh_input = {key:np.array(geometry_dict[key]) for key in \n",
    "                       ['B_x_coordinates', 'B_y_coordinates', \n",
    "                        'C_x_coordinates', 'C_y_coordinates']}\n",
    "        data_source.data = bokeh_input\n",
    "        \n",
    "    def update_upon_sigma(attr, old, new):\n",
    "        \"\"\"Callback to take action when smoothing slider changes\"\"\"\n",
    "        geometry_dict = grating_geometry(new, groove_top_width, blaze_slider.value, \n",
    "                                         a_degrees)\n",
    "        bokeh_input = {key:np.array(geometry_dict[key]) for key in \n",
    "                       ['B_x_coordinates', 'B_y_coordinates', \n",
    "                        'C_x_coordinates', 'C_y_coordinates']}\n",
    "        data_source.data = bokeh_input\n",
    "\n",
    "\n",
    "\n",
    "\n",
    "    blaze_slider.on_change(\"value\", update_upon_blaze)\n",
    "    sigma_slider.on_change(\"value\", update_upon_sigma)\n",
    "\n",
    "    widgets_and_figures = layout([fig],\n",
    "        [blaze_slider],\n",
    "        [sigma_slider],\n",
    "    )\n",
    "    doc.add_root(widgets_and_figures)\n",
    "\n",
    "output_notebook(verbose=False, hide_banner=True)\n",
    "show(create_interact_ui)"
   ]
  },
  {
   "cell_type": "code",
   "execution_count": null,
   "id": "949b8898",
   "metadata": {},
   "outputs": [],
   "source": []
  },
  {
   "cell_type": "code",
   "execution_count": null,
   "id": "8d2aca44",
   "metadata": {},
   "outputs": [],
   "source": []
  },
  {
   "cell_type": "code",
   "execution_count": null,
   "id": "44793a05",
   "metadata": {},
   "outputs": [],
   "source": []
  },
  {
   "cell_type": "code",
   "execution_count": null,
   "id": "bf5c917b",
   "metadata": {},
   "outputs": [],
   "source": []
  },
  {
   "cell_type": "code",
   "execution_count": null,
   "id": "a0e34c23",
   "metadata": {},
   "outputs": [],
   "source": []
  },
  {
   "cell_type": "code",
   "execution_count": null,
   "id": "fcdfa2d3",
   "metadata": {},
   "outputs": [],
   "source": []
  },
  {
   "cell_type": "code",
   "execution_count": null,
   "id": "f6ea067c",
   "metadata": {},
   "outputs": [],
   "source": []
  },
  {
   "cell_type": "code",
   "execution_count": null,
   "id": "a94394e7",
   "metadata": {},
   "outputs": [],
   "source": []
  },
  {
   "cell_type": "markdown",
   "id": "4499f217",
   "metadata": {},
   "source": [
    "## Add incident rays"
   ]
  },
  {
   "cell_type": "code",
   "execution_count": null,
   "id": "d460009a",
   "metadata": {},
   "outputs": [],
   "source": [
    "incidence_angle_degrees = -44.6\n",
    "incidence_angle_radians = np.radians(incidence_angle_degrees)"
   ]
  },
  {
   "cell_type": "markdown",
   "id": "01980af4",
   "metadata": {},
   "source": [
    "Determine the coordinates of the beam.  The rays come in from infinity, but let's draw them has having a fixed length for illustration purposes."
   ]
  },
  {
   "cell_type": "code",
   "execution_count": null,
   "id": "09f58ce5",
   "metadata": {},
   "outputs": [],
   "source": [
    "far = 100.0"
   ]
  },
  {
   "cell_type": "code",
   "execution_count": null,
   "id": "97e947db",
   "metadata": {},
   "outputs": [],
   "source": [
    "ray1_vertex = np.array([-far*np.sin(incidence_angle_radians), \n",
    "                                far*np.cos(incidence_angle_radians)])"
   ]
  },
  {
   "cell_type": "markdown",
   "id": "54f2d85d",
   "metadata": {},
   "source": [
    "Determine the coordinate at which the marginal ray is shadowed:"
   ]
  },
  {
   "cell_type": "code",
   "execution_count": null,
   "id": "b94ffe03",
   "metadata": {},
   "outputs": [],
   "source": [
    "plt.figure(figsize=(5, 5))\n",
    "plt.plot([c_vertex[0], a_vertex[0]], [c_vertex[1], a_vertex[1]], lw=5, label='B')\n",
    "plt.plot([a_vertex[0], b_vertex[0]], [a_vertex[1], b_vertex[1]], lw=5, label='C')\n",
    "plt.plot([c_vertex[0], d_vertex[0]], [c_vertex[1], d_vertex[1]], lw=5, label='Groove Top')\n",
    "\n",
    "# Plot the incoming rays\n",
    "plt.plot([c_vertex[0], ray1_vertex[0]], [c_vertex[1], ray1_vertex[1]], \n",
    "         color='#ff4600', lw=2, label='Incoming Rays')\n",
    "plt.plot([c_vertex[0]+B_micron, ray1_vertex[0]+B_micron], [c_vertex[1], ray1_vertex[1]], \n",
    "         color='#ff4600', lw=2)\n",
    "plt.plot([c_vertex[0]+B_micron, -ray1_vertex[0]+B_micron], [c_vertex[1], -ray1_vertex[1]], \n",
    "         color='#ff4600', lw=2, linestyle='dotted', label='Marginal Ray')\n",
    "\n",
    "plt.text(B_micron/2, 1, 'A')\n",
    "plt.text(b_vertex[0]-2, b_vertex[1]-2, r'$\\beta$')\n",
    "plt.text(2,-1, r'$\\gamma$')\n",
    "plt.text(17,-5, 'h')\n",
    "plt.text(2,-4, 'w')\n",
    "plt.text(+7,-4, r'$\\phi$')\n",
    "plt.text(+14,-1, r'$\\omega$')\n",
    "\n",
    "\n",
    "plt.plot([0.0, 0.0], [0.0, 15], linewidth=2, color='k', marker='^', markersize=10)\n",
    "\n",
    "plt.axhline(0.0, linestyle='dashed', color='k', alpha=0.5)\n",
    "\n",
    "plt.xlim(-20, 30)\n",
    "plt.ylim(-20, 30)\n",
    "plt.xlabel('$x$ ($\\mu$m)');\n",
    "plt.ylabel('$y$ ($\\mu$m)')\n",
    "plt.legend();"
   ]
  },
  {
   "cell_type": "markdown",
   "id": "6a605531",
   "metadata": {},
   "source": [
    "We have $\\gamma$, and $\\beta$, so we can get $\\alpha$:"
   ]
  },
  {
   "cell_type": "code",
   "execution_count": null,
   "id": "c670cbd5",
   "metadata": {},
   "outputs": [],
   "source": [
    "gamma_degrees = c_degrees"
   ]
  },
  {
   "cell_type": "code",
   "execution_count": null,
   "id": "14727eb0",
   "metadata": {},
   "outputs": [],
   "source": [
    "omega_degrees = 90 - np.abs(incidence_angle_degrees)\n",
    "omega_radians = np.radians(omega_degrees)"
   ]
  },
  {
   "cell_type": "code",
   "execution_count": null,
   "id": "81ce63fe",
   "metadata": {},
   "outputs": [],
   "source": [
    "phi_degrees = 180 - omega_degrees - gamma_degrees\n",
    "phi_radians = np.radians(phi_degrees)"
   ]
  },
  {
   "cell_type": "markdown",
   "id": "bede2e04",
   "metadata": {},
   "source": [
    "We want to find the length of the linesegment.  Let's use angle-side-angle `ASA`:\n",
    "\n",
    "$$\\frac{\\sin{\\phi}}{A} \\,=\\, \\frac{\\sin{\\omega}}{w} \\,=\\, \\frac{\\sin{\\gamma}}{\\mathrm{undef}}$$\n",
    "\n",
    "solve for $w$:\n",
    "\n",
    "$$w \\,=\\, A \\frac{\\sin{\\omega}}{\\sin{\\phi}}$$\n"
   ]
  },
  {
   "cell_type": "code",
   "execution_count": null,
   "id": "3e08da1e",
   "metadata": {},
   "outputs": [],
   "source": [
    "w_micron = A_micron * np.sin(omega_radians)/np.sin(phi_radians)"
   ]
  },
  {
   "cell_type": "code",
   "execution_count": null,
   "id": "e76c05bc",
   "metadata": {},
   "outputs": [],
   "source": [
    "w_micron"
   ]
  },
  {
   "cell_type": "markdown",
   "id": "1295c5e6",
   "metadata": {},
   "source": [
    "Yay! We did it!"
   ]
  }
 ],
 "metadata": {
  "kernelspec": {
   "display_name": "Python 3 (ipykernel)",
   "language": "python",
   "name": "python3"
  },
  "language_info": {
   "codemirror_mode": {
    "name": "ipython",
    "version": 3
   },
   "file_extension": ".py",
   "mimetype": "text/x-python",
   "name": "python",
   "nbconvert_exporter": "python",
   "pygments_lexer": "ipython3",
   "version": "3.8.11"
  }
 },
 "nbformat": 4,
 "nbformat_minor": 5
}
