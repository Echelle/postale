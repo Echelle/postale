{
 "cells": [
  {
   "cell_type": "markdown",
   "id": "36be9fd2",
   "metadata": {},
   "source": [
    "# IGRINS GMTNIRS $76^{\\circ}$ blaze model\n",
    "\n",
    "LM3-10 maybe?\n",
    "\n",
    "Here we finally get to our desired result: the blaze envelope at R3."
   ]
  },
  {
   "cell_type": "code",
   "execution_count": 1,
   "id": "4daacdbc",
   "metadata": {},
   "outputs": [],
   "source": [
    "import matplotlib.pyplot as plt\n",
    "import numpy as np\n",
    "import pandas as pd\n",
    "\n",
    "%config InlineBackend.figure_format='retina'"
   ]
  },
  {
   "cell_type": "markdown",
   "id": "8206b4fa",
   "metadata": {},
   "source": [
    "### Fixed physical properties"
   ]
  },
  {
   "cell_type": "code",
   "execution_count": 2,
   "id": "1ec48a57",
   "metadata": {},
   "outputs": [],
   "source": [
    "sigma = 71.43 # micron"
   ]
  },
  {
   "cell_type": "code",
   "execution_count": 3,
   "id": "5205fdfc",
   "metadata": {},
   "outputs": [],
   "source": [
    "groove_top_width = 71.43 - 42.43 # micron"
   ]
  },
  {
   "cell_type": "code",
   "execution_count": 4,
   "id": "a1cda6b3",
   "metadata": {},
   "outputs": [
    {
     "data": {
      "text/plain": [
       "array([75.        , 75.10526316, 75.21052632, 75.31578947, 75.42105263,\n",
       "       75.52631579, 75.63157895, 75.73684211, 75.84210526, 75.94736842,\n",
       "       76.05263158, 76.15789474, 76.26315789, 76.36842105, 76.47368421,\n",
       "       76.57894737, 76.68421053, 76.78947368, 76.89473684, 77.        ])"
      ]
     },
     "execution_count": 4,
     "metadata": {},
     "output_type": "execute_result"
    }
   ],
   "source": [
    "N_guesses = 20\n",
    "blaze_angle_vector_degrees = np.linspace(75.0, 77.0, N_guesses) \n",
    "blaze_angle_vector_radians = np.radians(blaze_angle_vector_degrees) # radians\n",
    "blaze_angle_vector_degrees"
   ]
  },
  {
   "cell_type": "code",
   "execution_count": 5,
   "id": "af5c6847",
   "metadata": {},
   "outputs": [],
   "source": [
    "blaze_column = blaze_angle_vector_radians.reshape((1, N_guesses))"
   ]
  },
  {
   "cell_type": "code",
   "execution_count": 6,
   "id": "a1db2ee0",
   "metadata": {},
   "outputs": [
    {
     "data": {
      "text/plain": [
       "76.2"
      ]
     },
     "execution_count": 6,
     "metadata": {},
     "output_type": "execute_result"
    }
   ],
   "source": [
    "blaze_angle_degrees = 76.2\n",
    "blaze_angle_radians = np.radians(blaze_angle_degrees) # radians\n",
    "blaze_angle_degrees"
   ]
  },
  {
   "cell_type": "markdown",
   "id": "8e74c3a3",
   "metadata": {},
   "source": [
    "Assume testing in back-surface reflection in visible light!"
   ]
  },
  {
   "cell_type": "code",
   "execution_count": 7,
   "id": "6c81d171",
   "metadata": {},
   "outputs": [],
   "source": [
    "wavelength_micron = 0.6328 # micron"
   ]
  },
  {
   "cell_type": "code",
   "execution_count": 8,
   "id": "d19ba348",
   "metadata": {},
   "outputs": [],
   "source": [
    "max_m = np.floor(2 * sigma / wavelength_micron)\n",
    "m_vector = np.arange(-max_m, max_m+1, 1)"
   ]
  },
  {
   "cell_type": "markdown",
   "id": "e2c6404e",
   "metadata": {},
   "source": [
    "Note that we are including diffraction orders like $m=-52$ that only exist for some incidence angles.  That's OK! We are being overly-inclusive in case we go to extreme values of $\\theta_i$ that reveal some of those presently-unphysical orders."
   ]
  },
  {
   "cell_type": "code",
   "execution_count": 9,
   "id": "aa0c7111",
   "metadata": {},
   "outputs": [],
   "source": [
    "targetm = 219"
   ]
  },
  {
   "cell_type": "code",
   "execution_count": 10,
   "id": "a81492ca",
   "metadata": {},
   "outputs": [],
   "source": [
    "theta_i_radians = np.arcsin((targetm*wavelength_micron)/(2*sigma))\n",
    "theta_i_degrees = np.degrees(theta_i_radians)"
   ]
  },
  {
   "cell_type": "code",
   "execution_count": 11,
   "id": "82bea0c8",
   "metadata": {},
   "outputs": [
    {
     "data": {
      "text/plain": [
       "75.94498769048386"
      ]
     },
     "execution_count": 11,
     "metadata": {},
     "output_type": "execute_result"
    }
   ],
   "source": [
    "theta_i_degrees"
   ]
  },
  {
   "cell_type": "code",
   "execution_count": 12,
   "id": "c6bf8fe5",
   "metadata": {},
   "outputs": [
    {
     "name": "stderr",
     "output_type": "stream",
     "text": [
      "/var/folders/gb/yvbtr8b57pd1nzzxk3t_zwfsxgvdgb/T/ipykernel_82543/107915029.py:1: RuntimeWarning: invalid value encountered in arcsin\n",
      "  theta_m_radians = np.arcsin(np.sin(theta_i_radians) - m_vector*(wavelength_micron)/sigma)\n"
     ]
    }
   ],
   "source": [
    "theta_m_radians = np.arcsin(np.sin(theta_i_radians) - m_vector*(wavelength_micron)/sigma)\n",
    "theta_m_degrees = np.degrees(theta_m_radians)"
   ]
  },
  {
   "cell_type": "code",
   "execution_count": 13,
   "id": "f5c324dc",
   "metadata": {},
   "outputs": [],
   "source": [
    "finite_mask = np.isfinite(theta_m_radians)"
   ]
  },
  {
   "cell_type": "code",
   "execution_count": 14,
   "id": "6b81bdf3",
   "metadata": {},
   "outputs": [],
   "source": [
    "def foreshortened_groove(sigma, groove_top_width, incidence_angle):\n",
    "    \"\"\" The size of the illuminated groove \n",
    "    \n",
    "    Note:\n",
    "    -----\n",
    "    Function formerly known as \"beam_waist\", renamed to disambiguate\n",
    "    \n",
    "    Parameters:\n",
    "    -----------\n",
    "    sigma: The groove spacing or groove pitch (micron)\n",
    "    groove_top_width: The groove top or 'dam' unique to Si grating\n",
    "        development, they cause shadowing (micron)\n",
    "    incidence_angle: The input angle, as measured from the \n",
    "        grating normal (degrees)\n",
    "    \"\"\"\n",
    "    \n",
    "    A_micron = sigma - groove_top_width\n",
    "    incidence_angle_radians = np.radians(incidence_angle)\n",
    "    \n",
    "    output = A_micron * np.cos(incidence_angle_radians)\n",
    "    return output"
   ]
  },
  {
   "cell_type": "code",
   "execution_count": 15,
   "id": "5f7ae184",
   "metadata": {},
   "outputs": [
    {
     "data": {
      "text/plain": [
       "10.304270162441153"
      ]
     },
     "execution_count": 15,
     "metadata": {},
     "output_type": "execute_result"
    }
   ],
   "source": [
    "d_term = foreshortened_groove(sigma, groove_top_width, theta_i_degrees)\n",
    "d_term"
   ]
  },
  {
   "cell_type": "code",
   "execution_count": 16,
   "id": "68c9c4c0",
   "metadata": {},
   "outputs": [],
   "source": [
    "blaze_modulation_at_order_peaks = np.sinc((d_term*np.pi/(wavelength_micron)*\n",
    "                np.sin(theta_m_radians + blaze_angle_radians)))**2"
   ]
  },
  {
   "cell_type": "code",
   "execution_count": 17,
   "id": "aea4a82a",
   "metadata": {},
   "outputs": [],
   "source": [
    "blaze_flux_matrix = np.sinc((d_term*np.pi/(wavelength_micron)*\n",
    "                np.sin(theta_m_radians + blaze_column.T)))**2"
   ]
  },
  {
   "cell_type": "code",
   "execution_count": 18,
   "id": "e3906c55",
   "metadata": {},
   "outputs": [
    {
     "data": {
      "text/plain": [
       "array([[nan, nan, nan, ..., nan, nan, nan],\n",
       "       [nan, nan, nan, ..., nan, nan, nan],\n",
       "       [nan, nan, nan, ..., nan, nan, nan],\n",
       "       ...,\n",
       "       [nan, nan, nan, ..., nan, nan, nan],\n",
       "       [nan, nan, nan, ..., nan, nan, nan],\n",
       "       [nan, nan, nan, ..., nan, nan, nan]])"
      ]
     },
     "execution_count": 18,
     "metadata": {},
     "output_type": "execute_result"
    }
   ],
   "source": [
    "blaze_flux_matrix"
   ]
  },
  {
   "cell_type": "code",
   "execution_count": 19,
   "id": "640ff700",
   "metadata": {},
   "outputs": [
    {
     "data": {
      "text/plain": [
       "(20, 451)"
      ]
     },
     "execution_count": 19,
     "metadata": {},
     "output_type": "execute_result"
    }
   ],
   "source": [
    "blaze_flux_matrix.shape"
   ]
  },
  {
   "cell_type": "code",
   "execution_count": 20,
   "id": "80271775",
   "metadata": {},
   "outputs": [],
   "source": [
    "peak_indices = np.nanargmax(blaze_flux_matrix, axis=1)"
   ]
  },
  {
   "cell_type": "code",
   "execution_count": 22,
   "id": "8e1acf31",
   "metadata": {},
   "outputs": [
    {
     "data": {
      "text/plain": [
       "219.0"
      ]
     },
     "execution_count": 22,
     "metadata": {},
     "output_type": "execute_result"
    }
   ],
   "source": [
    "m_vector[444]"
   ]
  },
  {
   "cell_type": "code",
   "execution_count": 41,
   "id": "715cfd31",
   "metadata": {},
   "outputs": [
    {
     "data": {
      "text/plain": [
       "(0.0, 3.0)"
      ]
     },
     "execution_count": 41,
     "metadata": {},
     "output_type": "execute_result"
    },
    {
     "data": {
      "image/png": "[encoded data removed]",
      "text/plain": [
       "<Figure size 1008x576 with 1 Axes>"
      ]
     },
     "metadata": {
      "image/png": {
       "height": 483,
       "width": 842
      },
      "needs_background": "light"
     },
     "output_type": "display_data"
    }
   ],
   "source": [
    "plt.figure(figsize=(14, 8))\n",
    "plt.plot(blaze_angle_vector_degrees, blaze_flux_matrix[:, 443]/blaze_flux_matrix[:, 444], 'o-')\n",
    "plt.plot(blaze_angle_vector_degrees, blaze_flux_matrix[:, 442]/blaze_flux_matrix[:, 444], 'o-')\n",
    "plt.xlabel('Blaze Angle')\n",
    "plt.ylabel('Flux Ratio: $(m_{Littrow}-1)/(m_{Littrow})$', fontsize=20)\n",
    "plt.axhline(0.4, color='k', linestyle='dashed')\n",
    "plt.axhline(0.2, color='g', linestyle='dashed')\n",
    "plt.axvline(76, color='r', linestyle='dotted')\n",
    "plt.ylim(0, 3)"
   ]
  },
  {
   "cell_type": "code",
   "execution_count": 25,
   "id": "9fcd39d2",
   "metadata": {},
   "outputs": [],
   "source": [
    "lookup_dict = {'m':m_vector, \n",
    "               'theta_i_degrees':theta_i_degrees*(-1),\n",
    "               'theta_m_degrees':theta_m_degrees, \n",
    "               'theta_m_radians':theta_m_radians,\n",
    "               'unnormalized_flux':blaze_modulation_at_order_peaks,\n",
    "               'normalize_flux':blaze_modulation_at_order_peaks\n",
    "              }"
   ]
  },
  {
   "cell_type": "code",
   "execution_count": 26,
   "id": "29ebf828",
   "metadata": {},
   "outputs": [],
   "source": [
    "df = pd.DataFrame(lookup_dict).dropna()"
   ]
  },
  {
   "cell_type": "code",
   "execution_count": null,
   "id": "a629dac0",
   "metadata": {},
   "outputs": [],
   "source": []
  },
  {
   "cell_type": "code",
   "execution_count": 27,
   "id": "318b4018",
   "metadata": {},
   "outputs": [],
   "source": [
    "brightest_index = df.normalize_flux.argmax()"
   ]
  },
  {
   "cell_type": "code",
   "execution_count": 28,
   "id": "8f34580b",
   "metadata": {},
   "outputs": [
    {
     "data": {
      "text/html": [
       "<div>\n",
       "<style scoped>\n",
       "    .dataframe tbody tr th:only-of-type {\n",
       "        vertical-align: middle;\n",
       "    }\n",
       "\n",
       "    .dataframe tbody tr th {\n",
       "        vertical-align: top;\n",
       "    }\n",
       "\n",
       "    .dataframe thead th {\n",
       "        text-align: right;\n",
       "    }\n",
       "</style>\n",
       "<table border=\"1\" class=\"dataframe\">\n",
       "  <thead>\n",
       "    <tr style=\"text-align: right;\">\n",
       "      <th></th>\n",
       "      <th>m</th>\n",
       "      <th>theta_i_degrees</th>\n",
       "      <th>theta_m_degrees</th>\n",
       "      <th>theta_m_radians</th>\n",
       "      <th>unnormalized_flux</th>\n",
       "      <th>normalize_flux</th>\n",
       "    </tr>\n",
       "  </thead>\n",
       "  <tbody>\n",
       "    <tr>\n",
       "      <th>441</th>\n",
       "      <td>216.0</td>\n",
       "      <td>-75.944988</td>\n",
       "      <td>-70.645464</td>\n",
       "      <td>-1.232996</td>\n",
       "      <td>0.000095</td>\n",
       "      <td>0.000095</td>\n",
       "    </tr>\n",
       "    <tr>\n",
       "      <th>442</th>\n",
       "      <td>217.0</td>\n",
       "      <td>-75.944988</td>\n",
       "      <td>-72.240446</td>\n",
       "      <td>-1.260834</td>\n",
       "      <td>0.008036</td>\n",
       "      <td>0.008036</td>\n",
       "    </tr>\n",
       "    <tr>\n",
       "      <th>443</th>\n",
       "      <td>218.0</td>\n",
       "      <td>-75.944988</td>\n",
       "      <td>-73.988006</td>\n",
       "      <td>-1.291334</td>\n",
       "      <td>0.000167</td>\n",
       "      <td>0.000167</td>\n",
       "    </tr>\n",
       "    <tr>\n",
       "      <th>444</th>\n",
       "      <td>219.0</td>\n",
       "      <td>-75.944988</td>\n",
       "      <td>-75.944988</td>\n",
       "      <td>-1.325490</td>\n",
       "      <td>0.840668</td>\n",
       "      <td>0.840668</td>\n",
       "    </tr>\n",
       "  </tbody>\n",
       "</table>\n",
       "</div>"
      ],
      "text/plain": [
       "         m  theta_i_degrees  theta_m_degrees  theta_m_radians  \\\n",
       "441  216.0       -75.944988       -70.645464        -1.232996   \n",
       "442  217.0       -75.944988       -72.240446        -1.260834   \n",
       "443  218.0       -75.944988       -73.988006        -1.291334   \n",
       "444  219.0       -75.944988       -75.944988        -1.325490   \n",
       "\n",
       "     unnormalized_flux  normalize_flux  \n",
       "441           0.000095        0.000095  \n",
       "442           0.008036        0.008036  \n",
       "443           0.000167        0.000167  \n",
       "444           0.840668        0.840668  "
      ]
     },
     "execution_count": 28,
     "metadata": {},
     "output_type": "execute_result"
    }
   ],
   "source": [
    "df.iloc[brightest_index-3:brightest_index+1]"
   ]
  },
  {
   "cell_type": "markdown",
   "id": "d7965a23",
   "metadata": {},
   "source": [
    "Again, there's an incidence-angle foreshortening effect here..."
   ]
  }
 ],
 "metadata": {
  "kernelspec": {
   "display_name": "Python 3 (ipykernel)",
   "language": "python",
   "name": "python3"
  },
  "language_info": {
   "codemirror_mode": {
    "name": "ipython",
    "version": 3
   },
   "file_extension": ".py",
   "mimetype": "text/x-python",
   "name": "python",
   "nbconvert_exporter": "python",
   "pygments_lexer": "ipython3",
   "version": "3.8.11"
  }
 },
 "nbformat": 4,
 "nbformat_minor": 5
}
