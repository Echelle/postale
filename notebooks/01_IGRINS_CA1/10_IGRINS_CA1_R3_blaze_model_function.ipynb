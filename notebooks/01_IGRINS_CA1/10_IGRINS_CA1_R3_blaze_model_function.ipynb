{
 "cells": [
  {
   "cell_type": "markdown",
   "id": "7c8fb6a4",
   "metadata": {},
   "source": [
    "# IGRINS CA1 R3 blaze model\n",
    "\n",
    "Here we finally get to our desired result: the blaze envelope at R3."
   ]
  },
  {
   "cell_type": "code",
   "execution_count": null,
   "id": "fcdb4e82",
   "metadata": {},
   "outputs": [],
   "source": [
    "import matplotlib.pyplot as plt\n",
    "import numpy as np\n",
    "\n",
    "%config InlineBackend.figure_format='retina'"
   ]
  },
  {
   "cell_type": "markdown",
   "id": "21f26e63",
   "metadata": {},
   "source": [
    "### Fixed physical properties"
   ]
  },
  {
   "cell_type": "code",
   "execution_count": null,
   "id": "e82465c4",
   "metadata": {},
   "outputs": [],
   "source": [
    "sigma = 64.9 #64.9 is M band, 27.36 is IGRINS# micron"
   ]
  },
  {
   "cell_type": "code",
   "execution_count": null,
   "id": "e5aad9f1",
   "metadata": {},
   "outputs": [],
   "source": [
    "groove_top_width = 109.90-sigma # micron"
   ]
  },
  {
   "cell_type": "code",
   "execution_count": null,
   "id": "edd67f5e",
   "metadata": {},
   "outputs": [],
   "source": [
    "blaze_angle_radians = np.arctan(3) # radians\n",
    "blaze_angle_degrees = np.degrees(blaze_angle_radians)\n",
    "blaze_angle_degrees"
   ]
  },
  {
   "cell_type": "markdown",
   "id": "986340c9",
   "metadata": {},
   "source": [
    "Assume testing in back-surface reflection in visible light!"
   ]
  },
  {
   "cell_type": "code",
   "execution_count": null,
   "id": "eb625d6c",
   "metadata": {},
   "outputs": [],
   "source": [
    "wavelength_micron = 0.632 # micron"
   ]
  },
  {
   "cell_type": "markdown",
   "id": "38fd0a48",
   "metadata": {},
   "source": [
    "Fix the angle of incidence for now."
   ]
  },
  {
   "cell_type": "code",
   "execution_count": null,
   "id": "da59ef89",
   "metadata": {},
   "outputs": [],
   "source": [
    "theta_i_degrees = 73.0"
   ]
  },
  {
   "cell_type": "markdown",
   "id": "31b2ed1b",
   "metadata": {},
   "source": [
    "## Make the blaze envelope function\n",
    "\n",
    "The function takes in these 5 **scalar** inputs:\n",
    "\n",
    "- blaze angle $\\theta_b$ \n",
    "- groove constant (groove spacing) $\\sigma$\n",
    "- groove top width ($t$)\n",
    "- incidence angle ($\\alpha$)\n",
    "- wavelength $\\lambda$\n",
    "\n",
    "... and it outputs these 3 **vector** outputs:\n",
    "\n",
    "- The list of diffraction order indices $\\mathbf{m}$\n",
    "- The list of angular output locations $(\\mathbf{\\beta_m})$\n",
    "- The fluxes ($\\mathbf{f_m}$)\n",
    "\n",
    "where the length of the vector (the number of items in the list) is $N_{orders}$.  \n",
    "\n",
    "We anticipate about $N_{orders}\\sim100$.  We will hone in on only 3 or 4 of those orders at any given time."
   ]
  },
  {
   "cell_type": "markdown",
   "id": "0888f66a",
   "metadata": {},
   "source": [
    "Define the grating equation:"
   ]
  },
  {
   "cell_type": "markdown",
   "id": "8bf162f1",
   "metadata": {},
   "source": [
    "$\\theta_m = \\arcsin{\\left( \\sin\\theta_i -\\frac{m\\lambda}{\\sigma}\\right )}$  "
   ]
  },
  {
   "cell_type": "code",
   "execution_count": null,
   "id": "9093efc3",
   "metadata": {},
   "outputs": [],
   "source": [
    "def grating_equation(groove_constant, incidence_angle, wavelength_micron):\n",
    "    \"\"\"Evaluate the grating equation for a specified grating and measurement setup\n",
    "    \n",
    "    Note: all angles are in degrees, all lengths in micron\n",
    "    \n",
    "    Returns:\n",
    "    -------\n",
    "        betas (numpy array): Angular locations of the diffracted orders\n",
    "    \"\"\"\n",
    "    max_m = np.floor(2 * groove_constant / wavelength_micron)\n",
    "    m_vector = np.arange(-max_m, max_m+1, 1)\n",
    "    \n",
    "    incidence_angle_radians = np.radians(incidence_angle)\n",
    "    theta_m_radians = np.arcsin(np.sin(incidence_angle_radians) - \n",
    "                                m_vector*(wavelength_micron)/groove_constant)\n",
    "    theta_m_degrees = np.degrees(theta_m_radians)\n",
    "    \n",
    "    \n",
    "    return (m_vector, theta_m_degrees)"
   ]
  },
  {
   "cell_type": "code",
   "execution_count": null,
   "id": "3d4f69c1",
   "metadata": {},
   "outputs": [],
   "source": [
    "def projected_groove_size(groove_constant, groove_top_width, incidence_angle):\n",
    "    \"\"\" The projected size of the illuminated groove\n",
    "    \n",
    "    Note:\n",
    "    -----\n",
    "    Function formerly known as \"beam_waist\", renamed to disambiguate\n",
    "    \n",
    "    Parameters:\n",
    "    -----------\n",
    "    sigma: The groove spacing or groove pitch (micron)\n",
    "    groove_top_width: The groove top or 'dam' unique to Si grating\n",
    "        development, they cause shadowing (micron)\n",
    "    incidence_angle: The input angle, as measured from the \n",
    "        grating normal (degrees)\n",
    "    \"\"\"\n",
    "    \n",
    "    A_micron = sigma - groove_top_width\n",
    "    incidence_angle_radians = np.radians(incidence_angle)\n",
    "    \n",
    "    output = A_micron * np.cos(incidence_angle_radians)\n",
    "    return output"
   ]
  },
  {
   "cell_type": "code",
   "execution_count": null,
   "id": "9b3f37e5",
   "metadata": {},
   "outputs": [],
   "source": [
    "#finite_mask = np.isfinite(theta_m_radians)"
   ]
  },
  {
   "cell_type": "code",
   "execution_count": null,
   "id": "f4bef267",
   "metadata": {},
   "outputs": [],
   "source": [
    "m_vector, theta_m_degrees = grating_equation(sigma, theta_i_degrees, wavelength_micron)"
   ]
  },
  {
   "cell_type": "code",
   "execution_count": null,
   "id": "6aa6a0b7",
   "metadata": {},
   "outputs": [],
   "source": [
    "A_projected = foreshortened_groove(sigma, groove_top_width, theta_i_degrees)"
   ]
  },
  {
   "cell_type": "markdown",
   "id": "d4634678",
   "metadata": {},
   "source": [
    "### Now we compute the \"blaze envelope\""
   ]
  },
  {
   "cell_type": "code",
   "execution_count": null,
   "id": "87d59285",
   "metadata": {},
   "outputs": [],
   "source": [
    "def blaze_modulation(blaze_angle, groove_constant, groove_top_width, \n",
    "                     incidence_angle, wavelength_micron):\n",
    "    \"\"\"Compute the blaze modulation given the grating geometry and measurement\n",
    "    \n",
    "    Returns:\n",
    "    -------\n",
    "        m_vector, beta_angle, flux_value (numpy arrays)\n",
    "    \"\"\"\n",
    "    \n",
    "    return None"
   ]
  },
  {
   "cell_type": "code",
   "execution_count": null,
   "id": "9e00449f",
   "metadata": {},
   "outputs": [],
   "source": []
  },
  {
   "cell_type": "code",
   "execution_count": null,
   "id": "e24af658",
   "metadata": {},
   "outputs": [],
   "source": [
    "blaze_modulation = np.sinc((A_projected*np.pi/(wavelength_micron)*\n",
    "                np.sin(angular_grid_radians + theta_i_radians)))**2"
   ]
  },
  {
   "cell_type": "markdown",
   "id": "cfe806e9",
   "metadata": {},
   "source": [
    "Again, there's an incidence-angle foreshortening effect here..."
   ]
  },
  {
   "cell_type": "code",
   "execution_count": null,
   "id": "3b373cf3",
   "metadata": {},
   "outputs": [],
   "source": [
    "blaze_modulation"
   ]
  },
  {
   "cell_type": "code",
   "execution_count": null,
   "id": "17568bca",
   "metadata": {},
   "outputs": [],
   "source": [
    "\n",
    "\n",
    "print(np.amax(blazed_groove_top_diffraction)) #This is the normalized brightness in the brightest pixel\n",
    "\n",
    "np.argmax(blazed_groove_top_diffraction) #This is the index of the order(?) that is brightest\n",
    "\n",
    "print(int(m)) #This is the order that is brightest?\n"
   ]
  },
  {
   "cell_type": "code",
   "execution_count": null,
   "id": "28c152fb",
   "metadata": {},
   "outputs": [],
   "source": [
    "plt.figure(figsize=(8, 8))\n",
    "plt.step(angular_grid_degrees, blazed_groove_top_diffraction, where='mid')\n",
    "plt.step(angular_grid_degrees, blaze_modulation, where='mid')\n",
    "\n",
    "x_lo, x_hi = (-90, -50)\n",
    "plt.xlim(x_lo, x_hi)\n",
    "plt.ylim(0, 1.2)\n",
    "\n",
    "for m, theta_m in zip(m_vector, theta_m_degrees):\n",
    "    if np.isfinite(theta_m) & (theta_m>x_lo) & (theta_m < x_hi-1):\n",
    "        plt.text(theta_m+0.1, 1.15, \"{:d}\".format(-int(m)), rotation='horizontal')\n",
    "        plt.plot([theta_m, theta_m], [1.0, 1.2], color='k', alpha=0.5, \n",
    "                 linestyle='dotted')\n",
    "\n",
    "plt.xlabel(r'$\\theta \\; (^\\circ)$')\n",
    "plt.ylabel(r'$\\frac{I(\\theta)}{I_0}$', fontsize=18)\n",
    "plt.title('Blazed diffraction from IGRINS CA-1 at R3 for 632.8 nm back surface illumination'.format(beam_size_mm) );\n",
    "\n",
    "plt.rcParams['axes.facecolor']='white'\n",
    "plt.rcParams['savefig.facecolor']='white'\n",
    "\n",
    "plt.savefig('../../figures/IGRINS_CA1_R3_blaze.png', dpi=300, bbox_inches='tight');"
   ]
  },
  {
   "cell_type": "code",
   "execution_count": null,
   "id": "d3e381fc",
   "metadata": {},
   "outputs": [],
   "source": []
  },
  {
   "cell_type": "markdown",
   "id": "bcac31a7",
   "metadata": {},
   "source": [
    "Let's look at the whole range in log space"
   ]
  },
  {
   "cell_type": "code",
   "execution_count": null,
   "id": "8b392cb9",
   "metadata": {},
   "outputs": [],
   "source": [
    "plt.figure(figsize=(14, 4))\n",
    "plt.step(angular_grid_degrees, blazed_groove_top_diffraction)\n",
    "plt.step(angular_grid_degrees, blaze_modulation)\n",
    "\n",
    "x_lo, x_hi = (-90, -50)\n",
    "plt.xlim(x_lo, x_hi)\n",
    "plt.ylim(1e-4, 2)\n",
    "plt.yscale('log')\n",
    "\n",
    "for m, theta_m in zip(m_vector, theta_m_degrees):\n",
    "    if np.isfinite(theta_m) & (theta_m>x_lo) & (theta_m < x_hi) & (np.mod(m, 1) ==0):\n",
    "        plt.text(theta_m+0.1, 1.15, \"{:d}\".format(-int(m)), rotation='horizontal')\n",
    "        plt.plot([theta_m, theta_m], [0.01, 1.2], color='k', alpha=0.5, \n",
    "                 linestyle='dotted')\n",
    "\n",
    "plt.xlabel(r'$\\theta \\; (^\\circ)$')\n",
    "plt.ylabel(r'$\\frac{I(\\theta)}{I_0}$', fontsize=18)\n",
    "plt.title('Blazed diffraction from IGRINS groove tops'.format(beam_size_mm) );"
   ]
  },
  {
   "cell_type": "markdown",
   "id": "45f9e7df",
   "metadata": {},
   "source": [
    "Awesome!  Appears correct!"
   ]
  },
  {
   "cell_type": "code",
   "execution_count": null,
   "id": "1a72f2e3",
   "metadata": {},
   "outputs": [],
   "source": []
  }
 ],
 "metadata": {
  "kernelspec": {
   "display_name": "Python 3 (ipykernel)",
   "language": "python",
   "name": "python3"
  },
  "language_info": {
   "codemirror_mode": {
    "name": "ipython",
    "version": 3
   },
   "file_extension": ".py",
   "mimetype": "text/x-python",
   "name": "python",
   "nbconvert_exporter": "python",
   "pygments_lexer": "ipython3",
   "version": "3.8.11"
  }
 },
 "nbformat": 4,
 "nbformat_minor": 5
}
