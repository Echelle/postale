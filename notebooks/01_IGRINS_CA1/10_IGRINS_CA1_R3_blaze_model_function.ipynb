{
 "cells": [
  {
   "cell_type": "markdown",
   "metadata": {},
   "source": [
    "# IGRINS CA1 R3 blaze model\n",
    "\n",
    "Here we finally get to our desired result: the blaze envelope at R3."
   ]
  },
  {
   "cell_type": "code",
   "execution_count": 1,
   "metadata": {},
   "outputs": [],
   "source": [
    "import matplotlib.pyplot as plt\n",
    "import numpy as np\n",
    "\n",
    "%config InlineBackend.figure_format='retina'"
   ]
  },
  {
   "cell_type": "markdown",
   "metadata": {},
   "source": [
    "### Fixed physical properties"
   ]
  },
  {
   "cell_type": "code",
   "execution_count": null,
   "metadata": {},
   "outputs": [],
   "source": [
    "#Fix all this terminology after defining the methods in paper!!! Ignore the following cell, only use as reference:"
   ]
  },
  {
   "cell_type": "code",
   "execution_count": null,
   "metadata": {},
   "outputs": [],
   "source": [
    "# sigma = 109.9 # 109.9 is M band, 27.36 is IGRINS# micron\n",
    "\n",
    "# groove_top_width = sigma-64.9 # micron\n",
    "\n",
    "# # blaze_angle_radians = np.arctan(3) # radians\n",
    "# # blaze_angle_degrees = np.degrees(blaze_angle_radians)\n",
    "# blaze_angle_degrees = 76.0\n",
    "\n",
    "# Assume testing in back-surface reflection in visible light!\n",
    "\n",
    "# wavelength_micron = 0.632 # micron\n",
    "\n",
    "# Fix the angle of incidence for now.\n",
    "\n",
    "# theta_i_degrees = 76.0"
   ]
  },
  {
   "cell_type": "markdown",
   "metadata": {},
   "source": [
    "## Make the blaze envelope function\n",
    "\n",
    "The function takes in these 5 **scalar** inputs:\n",
    "\n",
    "- blaze angle $\\theta_b$ \n",
    "- groove constant (groove spacing) $\\sigma$\n",
    "- groove top width ($t$)\n",
    "- incidence angle ($\\alpha$)\n",
    "- wavelength $\\lambda$\n",
    "\n",
    "... and it outputs these 3 **vector** outputs:\n",
    "\n",
    "- The list of diffraction order indices $\\mathbf{m}$\n",
    "- The list of angular output locations $(\\mathbf{\\beta_m})$\n",
    "- The fluxes ($\\mathbf{f_m}$)\n",
    "\n",
    "where the length of the vector (the number of items in the list) is $N_{orders}$.  \n",
    "\n",
    "We anticipate about $N_{orders}\\sim100$.  We will hone in on only 3 or 4 of those orders at any given time."
   ]
  },
  {
   "cell_type": "markdown",
   "metadata": {},
   "source": [
    "Define the grating equation:"
   ]
  },
  {
   "cell_type": "markdown",
   "metadata": {},
   "source": [
    "$\\theta_m = \\arcsin{\\left( \\sin\\theta_i -\\frac{m\\lambda}{\\sigma}\\right )}$  "
   ]
  },
  {
   "cell_type": "code",
   "execution_count": 2,
   "metadata": {},
   "outputs": [],
   "source": [
    "def grating_equation(groove_constant, incidence_angle, wavelength_micron):\n",
    "    \"\"\"Evaluate the grating equation for a specified grating and measurement setup\n",
    "    \n",
    "    Note: all angles are in degrees, all lengths in micron\n",
    "    \n",
    "    Returns:\n",
    "    -------\n",
    "        betas (numpy array): Angular locations of the diffracted orders\n",
    "    \"\"\"\n",
    "    max_m = np.floor(2 * groove_constant / wavelength_micron)\n",
    "    m_vector = np.arange(-max_m, max_m+1, 1)\n",
    "    \n",
    "    incidence_angle_radians = np.radians(incidence_angle)\n",
    "    theta_m_radians = np.arcsin(np.sin(incidence_angle_radians) - \n",
    "                                m_vector*(wavelength_micron)/groove_constant)\n",
    "    theta_m_degrees = np.degrees(theta_m_radians)\n",
    "    \n",
    "    \n",
    "    return (m_vector, theta_m_degrees)"
   ]
  },
  {
   "cell_type": "code",
   "execution_count": 3,
   "metadata": {},
   "outputs": [],
   "source": [
    "def projected_groove_size(groove_constant, groove_top_width, incidence_angle):\n",
    "    \"\"\" The projected size of the illuminated groove\n",
    "    \n",
    "    Note:\n",
    "    -----\n",
    "    Function formerly known as \"beam_waist\", renamed to disambiguate\n",
    "    \n",
    "    Parameters:\n",
    "    -----------\n",
    "    sigma: The groove spacing or groove pitch (micron)\n",
    "    groove_top_width: The groove top or 'dam' unique to Si grating\n",
    "        development, they cause shadowing (micron)\n",
    "    incidence_angle: The input angle, as measured from the \n",
    "        grating normal (degrees)\n",
    "    \"\"\"\n",
    "    \n",
    "    A_micron = groove_constant - groove_top_width\n",
    "    incidence_angle_radians = np.radians(incidence_angle)\n",
    "    \n",
    "    output = A_micron * np.cos(incidence_angle_radians)\n",
    "    return output"
   ]
  },
  {
   "cell_type": "code",
   "execution_count": null,
   "metadata": {},
   "outputs": [],
   "source": []
  },
  {
   "cell_type": "code",
   "execution_count": null,
   "metadata": {},
   "outputs": [],
   "source": []
  },
  {
   "cell_type": "markdown",
   "metadata": {},
   "source": [
    "### Now we compute the \"blaze envelope\""
   ]
  },
  {
   "cell_type": "code",
   "execution_count": 4,
   "metadata": {},
   "outputs": [],
   "source": [
    "def blaze_modulation(blaze_angle, groove_constant, groove_top_width, \n",
    "                     incidence_angle, wavelength_micron):\n",
    "    \"\"\"Compute the blaze modulation given the grating geometry and measurement\n",
    "    \n",
    "    Returns:\n",
    "    -------\n",
    "        m_vector, beta_angle, flux_value (numpy arrays)\n",
    "    \"\"\"\n",
    "    \n",
    "    #Call grating equation function:\n",
    "    m_vector, beta_m_degrees = grating_equation(groove_constant, incidence_angle, wavelength_micron)\n",
    "    \n",
    "    #Call projected_groove_size function:\n",
    "    A_projected = projected_groove_size(groove_constant, groove_top_width, incidence_angle)\n",
    "    \n",
    "    #Use returns from those two functions (and some unit conversions) \n",
    "    beta_m_radians = np.deg2rad(beta_m_degrees)\n",
    "    incidence_angle_radians = np.deg2rad(incidence_angle)\n",
    "    blaze_angle_radians = np.deg2rad(blaze_angle)\n",
    "    \n",
    "    #...to compute blaze modulation:\n",
    "    relative_flux_values = np.sinc((A_projected*np.pi/(wavelength_micron)*\n",
    "                np.sin(beta_m_radians-blaze_angle_radians)))**2 ###double check sign on sin arg\n",
    "    \n",
    "    #Sin should evaluate to 0 when at blaze angle\n",
    "    \n",
    "    \n",
    "    return (m_vector, beta_m_degrees, relative_flux_values)"
   ]
  },
  {
   "cell_type": "code",
   "execution_count": 15,
   "metadata": {},
   "outputs": [
    {
     "name": "stderr",
     "output_type": "stream",
     "text": [
      "//anaconda3/lib/python3.7/site-packages/ipykernel_launcher.py:15: RuntimeWarning: invalid value encountered in arcsin\n",
      "  from ipykernel import kernelapp as app\n"
     ]
    }
   ],
   "source": [
    "\n",
    "#compute values!\n",
    "m_vector, beta_m_degrees, relative_flux_values = blaze_modulation(76, 109.9, 45, -76, 0.6328)"
   ]
  },
  {
   "cell_type": "code",
   "execution_count": 16,
   "metadata": {},
   "outputs": [],
   "source": [
    "# m_vector"
   ]
  },
  {
   "cell_type": "code",
   "execution_count": 17,
   "metadata": {},
   "outputs": [
    {
     "data": {
      "text/plain": [
       "0.9914896292928677"
      ]
     },
     "execution_count": 17,
     "metadata": {},
     "output_type": "execute_result"
    }
   ],
   "source": [
    "brightest_index = np.nanargmax(relative_flux_values)\n",
    "np.nanmax(relative_flux_values)\n",
    "# m_vector[brightest_index]"
   ]
  },
  {
   "cell_type": "code",
   "execution_count": 22,
   "metadata": {},
   "outputs": [
    {
     "data": {
      "image/png": "[encoded data removed]",
      "text/plain": [
       "<Figure size 576x576 with 1 Axes>"
      ]
     },
     "metadata": {
      "image/png": {
       "height": 465,
       "width": 497
      },
      "needs_background": "light"
     },
     "output_type": "display_data"
    }
   ],
   "source": [
    "plt.figure(figsize=(8, 8))\n",
    "plt.scatter(beta_m_degrees, relative_flux_values)\n",
    "# plt.xlim(50,80)\n",
    "\n",
    "x_lo, x_hi =(65,80)\n",
    "plt.xlim(x_lo, x_hi)\n",
    "plt.yscale('log')\n",
    "plt.ylim(0.0001, 2)\n",
    "# plt.ylim(-0.2, 1.5)\n",
    "for m, beta_m in zip(m_vector, beta_m_degrees):\n",
    "    if np.isfinite(beta_m) & (beta_m>x_lo) & (beta_m < x_hi-1):\n",
    "        plt.text(beta_m+0.1, 1.15, \"{:d}\".format(-int(m)), rotation='horizontal')\n",
    "        plt.plot([beta_m, beta_m], [1.0, 1.2], color='k', alpha=0.5, \n",
    "                 linestyle='dotted')\n",
    "\n",
    "plt.show()"
   ]
  },
  {
   "cell_type": "code",
   "execution_count": null,
   "metadata": {},
   "outputs": [],
   "source": []
  },
  {
   "cell_type": "code",
   "execution_count": null,
   "metadata": {},
   "outputs": [],
   "source": [
    "plt.figure(figsize=(8, 8))\n",
    "plt.step(angular_grid_degrees, blazed_groove_top_diffraction, where='mid')\n",
    "plt.step(angular_grid_degrees, blaze_modulation, where='mid')\n",
    "\n",
    "x_lo, x_hi = (-90, -50)\n",
    "plt.xlim(x_lo, x_hi)\n",
    "plt.ylim(0, 1.2)\n",
    "\n",
    "for m, theta_m in zip(m_vector, theta_m_degrees):\n",
    "    if np.isfinite(theta_m) & (theta_m>x_lo) & (theta_m < x_hi-1):\n",
    "        plt.text(theta_m+0.1, 1.15, \"{:d}\".format(-int(m)), rotation='horizontal')\n",
    "        plt.plot([theta_m, theta_m], [1.0, 1.2], color='k', alpha=0.5, \n",
    "                 linestyle='dotted')\n",
    "\n",
    "plt.xlabel(r'$\\theta \\; (^\\circ)$')\n",
    "plt.ylabel(r'$\\frac{I(\\theta)}{I_0}$', fontsize=18)\n",
    "plt.title('Blazed diffraction from IGRINS CA-1 at R3 for 632.8 nm back surface illumination'.format(beam_size_mm) );\n",
    "\n",
    "plt.rcParams['axes.facecolor']='white'\n",
    "plt.rcParams['savefig.facecolor']='white'\n",
    "\n",
    "plt.savefig('../../figures/IGRINS_CA1_R3_blaze.png', dpi=300, bbox_inches='tight');"
   ]
  },
  {
   "cell_type": "code",
   "execution_count": null,
   "metadata": {},
   "outputs": [],
   "source": []
  },
  {
   "cell_type": "markdown",
   "metadata": {},
   "source": [
    "Let's look at the whole range in log space"
   ]
  },
  {
   "cell_type": "code",
   "execution_count": null,
   "metadata": {},
   "outputs": [],
   "source": [
    "plt.figure(figsize=(14, 4))\n",
    "plt.step(angular_grid_degrees, blazed_groove_top_diffraction)\n",
    "plt.step(angular_grid_degrees, blaze_modulation)\n",
    "\n",
    "x_lo, x_hi = (-90, -50)\n",
    "plt.xlim(x_lo, x_hi)\n",
    "plt.ylim(1e-4, 2)\n",
    "plt.yscale('log')\n",
    "\n",
    "for m, theta_m in zip(m_vector, theta_m_degrees):\n",
    "    if np.isfinite(theta_m) & (theta_m>x_lo) & (theta_m < x_hi) & (np.mod(m, 1) ==0):\n",
    "        plt.text(theta_m+0.1, 1.15, \"{:d}\".format(-int(m)), rotation='horizontal')\n",
    "        plt.plot([theta_m, theta_m], [0.01, 1.2], color='k', alpha=0.5, \n",
    "                 linestyle='dotted')\n",
    "\n",
    "plt.xlabel(r'$\\theta \\; (^\\circ)$')\n",
    "plt.ylabel(r'$\\frac{I(\\theta)}{I_0}$', fontsize=18)\n",
    "plt.title('Blazed diffraction from IGRINS groove tops'.format(beam_size_mm) );"
   ]
  },
  {
   "cell_type": "markdown",
   "metadata": {},
   "source": [
    "Awesome!  Appears correct!"
   ]
  },
  {
   "cell_type": "code",
   "execution_count": null,
   "metadata": {},
   "outputs": [],
   "source": []
  }
 ],
 "metadata": {
  "kernelspec": {
   "display_name": "Python 3",
   "language": "python",
   "name": "python3"
  },
  "language_info": {
   "codemirror_mode": {
    "name": "ipython",
    "version": 3
   },
   "file_extension": ".py",
   "mimetype": "text/x-python",
   "name": "python",
   "nbconvert_exporter": "python",
   "pygments_lexer": "ipython3",
   "version": "3.7.3"
  }
 },
 "nbformat": 4,
 "nbformat_minor": 5
}
