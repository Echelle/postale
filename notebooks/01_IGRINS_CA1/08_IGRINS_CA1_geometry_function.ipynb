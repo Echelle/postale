{
 "cells": [
  {
   "cell_type": "markdown",
   "id": "040b5a42",
   "metadata": {},
   "source": [
    "# IGRINS CA1 geometry function\n",
    "\n",
    "Here we make a function that takes in grating properties and computes its properties."
   ]
  },
  {
   "cell_type": "code",
   "execution_count": null,
   "id": "9a5df9a9",
   "metadata": {},
   "outputs": [],
   "source": [
    "import matplotlib.pyplot as plt\n",
    "import numpy as np\n",
    "\n",
    "%config InlineBackend.figure_format='retina'"
   ]
  },
  {
   "cell_type": "markdown",
   "id": "8a3dffcf",
   "metadata": {},
   "source": [
    "### Fixed physical properties"
   ]
  },
  {
   "cell_type": "code",
   "execution_count": null,
   "id": "08162158",
   "metadata": {},
   "outputs": [],
   "source": [
    "sigma = 27.36 # micron"
   ]
  },
  {
   "cell_type": "code",
   "execution_count": null,
   "id": "a5016a48",
   "metadata": {},
   "outputs": [],
   "source": [
    "groove_top_width = 9.95 # micron"
   ]
  },
  {
   "cell_type": "markdown",
   "id": "0e07ec69",
   "metadata": {},
   "source": [
    "Here is a cartoon of the IGRINS CA-1 grating from [this slideshow](https://speakerdeck.com/gully/ideas-for-metrology-of-silicon-diffractive-optics?slide=45)."
   ]
  },
  {
   "cell_type": "code",
   "execution_count": null,
   "id": "61f83e2a",
   "metadata": {},
   "outputs": [],
   "source": [
    "%%html\n",
    "<img src=\"../IGRINS_CA1_schematic.png\" width=300></img>"
   ]
  },
  {
   "cell_type": "markdown",
   "id": "4943cc6d",
   "metadata": {},
   "source": [
    "The angle $a$ is the fixed $70.53^\\circ$ from the Si crystal planes, $b$ is $\\arctan{3}$, and c is whatever is left over to add up to 180."
   ]
  },
  {
   "cell_type": "code",
   "execution_count": null,
   "id": "90c284ac",
   "metadata": {},
   "outputs": [],
   "source": [
    "a_degrees = 70.53 # \"Fixed\" Si crystal plane angle"
   ]
  },
  {
   "cell_type": "code",
   "execution_count": null,
   "id": "ff9dd2e1",
   "metadata": {},
   "outputs": [],
   "source": [
    "b_degrees = np.degrees(np.arctan(3)) # Blaze angle"
   ]
  },
  {
   "cell_type": "markdown",
   "id": "3b33f4b2",
   "metadata": {},
   "source": [
    "## Create the function"
   ]
  },
  {
   "cell_type": "code",
   "execution_count": null,
   "id": "094ccbda",
   "metadata": {},
   "outputs": [],
   "source": [
    "def grating_geometry(sigma, groove_top_width, b_degrees, a_degrees):\n",
    "    \"\"\"Compute the grating groove geometry from math\n",
    "    \n",
    "    Parameters:\n",
    "    ----------\n",
    "    \n",
    "    sigma (micron): \n",
    "        grating groove spacing or \"groove constant\"\n",
    "    groove_top_width (micron):\n",
    "        Si grating groove top width defined by UV photomask chrome stripes\n",
    "    b_degrees (degrees):\n",
    "        The b angle from Figure 1 above, often the blaze angle\n",
    "    a_degrees (degrees):\n",
    "        The a angle from Figure 1 above, also called the Si apex angle\n",
    "    \"\"\"\n",
    "    \n",
    "    c_degrees = 180 - a_degrees - b_degrees # Complement must add up to 180\n",
    "    \n",
    "    a_radians, b_radians, c_radians = (np.radians(angle) for angle in \n",
    "                                   [a_degrees, b_degrees, c_degrees])\n",
    "    \n",
    "    # Compute the line segments A, B, C with the Law of Sines:\n",
    "    A_micron = sigma - groove_top_width\n",
    "    \n",
    "    fixed_ratio = np.sin(a_radians) / A_micron\n",
    "    B_micron = np.sin(b_radians) / fixed_ratio\n",
    "    C_micron = np.sin(c_radians) / fixed_ratio\n",
    "    \n",
    "    # Compute the vertices, define vertex `c` as the origin\n",
    "    c_vertex = np.array([0.0, 0.0])\n",
    "    b_vertex = c_vertex + np.array([B_micron, 0.0])\n",
    "    a_vertex = np.array([B_micron*np.cos(c_radians), -B_micron*np.sin(c_radians)])\n",
    "    \n",
    "    # Define one other key point, the coordinate of the start of the groove top.\n",
    "    d_vertex = np.array([-groove_top_width, 0.0])\n",
    "    \n",
    "    return {'angle_degrees':(a_degrees, b_degrees, c_degrees),\n",
    "            'angle_radians':(a_radians, b_radians, c_radians),\n",
    "            'segments_micron':(A_micron, B_micron, C_micron),\n",
    "           'vertices_micron':(a_vertex, b_vertex, c_vertex, d_vertex)}"
   ]
  },
  {
   "cell_type": "code",
   "execution_count": null,
   "id": "bb91871f",
   "metadata": {},
   "outputs": [],
   "source": [
    "geometry_dict = grating_geometry(sigma, groove_top_width, b_degrees, a_degrees)"
   ]
  },
  {
   "cell_type": "code",
   "execution_count": null,
   "id": "05f4681c",
   "metadata": {},
   "outputs": [],
   "source": [
    "geometry_dict"
   ]
  },
  {
   "cell_type": "markdown",
   "id": "ff3be9f8",
   "metadata": {},
   "source": [
    "## Add a bokeh interactive dashboard"
   ]
  },
  {
   "cell_type": "code",
   "execution_count": null,
   "id": "8c8d427e",
   "metadata": {},
   "outputs": [],
   "source": []
  },
  {
   "cell_type": "code",
   "execution_count": null,
   "id": "949b8898",
   "metadata": {},
   "outputs": [],
   "source": []
  },
  {
   "cell_type": "code",
   "execution_count": null,
   "id": "8d2aca44",
   "metadata": {},
   "outputs": [],
   "source": []
  },
  {
   "cell_type": "code",
   "execution_count": null,
   "id": "44793a05",
   "metadata": {},
   "outputs": [],
   "source": []
  },
  {
   "cell_type": "code",
   "execution_count": null,
   "id": "bf5c917b",
   "metadata": {},
   "outputs": [],
   "source": []
  },
  {
   "cell_type": "code",
   "execution_count": null,
   "id": "a0e34c23",
   "metadata": {},
   "outputs": [],
   "source": []
  },
  {
   "cell_type": "code",
   "execution_count": null,
   "id": "fcdfa2d3",
   "metadata": {},
   "outputs": [],
   "source": []
  },
  {
   "cell_type": "code",
   "execution_count": null,
   "id": "f6ea067c",
   "metadata": {},
   "outputs": [],
   "source": []
  },
  {
   "cell_type": "code",
   "execution_count": null,
   "id": "a94394e7",
   "metadata": {},
   "outputs": [],
   "source": []
  },
  {
   "cell_type": "markdown",
   "id": "4499f217",
   "metadata": {},
   "source": [
    "## Add incident rays"
   ]
  },
  {
   "cell_type": "code",
   "execution_count": null,
   "id": "d460009a",
   "metadata": {},
   "outputs": [],
   "source": [
    "incidence_angle_degrees = -44.6\n",
    "incidence_angle_radians = np.radians(incidence_angle_degrees)"
   ]
  },
  {
   "cell_type": "markdown",
   "id": "01980af4",
   "metadata": {},
   "source": [
    "Determine the coordinates of the beam.  The rays come in from infinity, but let's draw them has having a fixed length for illustration purposes."
   ]
  },
  {
   "cell_type": "code",
   "execution_count": null,
   "id": "09f58ce5",
   "metadata": {},
   "outputs": [],
   "source": [
    "far = 100.0"
   ]
  },
  {
   "cell_type": "code",
   "execution_count": null,
   "id": "97e947db",
   "metadata": {},
   "outputs": [],
   "source": [
    "ray1_vertex = np.array([-far*np.sin(incidence_angle_radians), \n",
    "                                far*np.cos(incidence_angle_radians)])"
   ]
  },
  {
   "cell_type": "markdown",
   "id": "54f2d85d",
   "metadata": {},
   "source": [
    "Determine the coordinate at which the marginal ray is shadowed:"
   ]
  },
  {
   "cell_type": "code",
   "execution_count": null,
   "id": "b94ffe03",
   "metadata": {},
   "outputs": [],
   "source": [
    "plt.figure(figsize=(5, 5))\n",
    "plt.plot([c_vertex[0], a_vertex[0]], [c_vertex[1], a_vertex[1]], lw=5, label='B')\n",
    "plt.plot([a_vertex[0], b_vertex[0]], [a_vertex[1], b_vertex[1]], lw=5, label='C')\n",
    "plt.plot([c_vertex[0], d_vertex[0]], [c_vertex[1], d_vertex[1]], lw=5, label='Groove Top')\n",
    "\n",
    "# Plot the incoming rays\n",
    "plt.plot([c_vertex[0], ray1_vertex[0]], [c_vertex[1], ray1_vertex[1]], \n",
    "         color='#ff4600', lw=2, label='Incoming Rays')\n",
    "plt.plot([c_vertex[0]+B_micron, ray1_vertex[0]+B_micron], [c_vertex[1], ray1_vertex[1]], \n",
    "         color='#ff4600', lw=2)\n",
    "plt.plot([c_vertex[0]+B_micron, -ray1_vertex[0]+B_micron], [c_vertex[1], -ray1_vertex[1]], \n",
    "         color='#ff4600', lw=2, linestyle='dotted', label='Marginal Ray')\n",
    "\n",
    "plt.text(B_micron/2, 1, 'A')\n",
    "plt.text(b_vertex[0]-2, b_vertex[1]-2, r'$\\beta$')\n",
    "plt.text(2,-1, r'$\\gamma$')\n",
    "plt.text(17,-5, 'h')\n",
    "plt.text(2,-4, 'w')\n",
    "plt.text(+7,-4, r'$\\phi$')\n",
    "plt.text(+14,-1, r'$\\omega$')\n",
    "\n",
    "\n",
    "plt.plot([0.0, 0.0], [0.0, 15], linewidth=2, color='k', marker='^', markersize=10)\n",
    "\n",
    "plt.axhline(0.0, linestyle='dashed', color='k', alpha=0.5)\n",
    "\n",
    "plt.xlim(-20, 30)\n",
    "plt.ylim(-20, 30)\n",
    "plt.xlabel('$x$ ($\\mu$m)');\n",
    "plt.ylabel('$y$ ($\\mu$m)')\n",
    "plt.legend();"
   ]
  },
  {
   "cell_type": "markdown",
   "id": "6a605531",
   "metadata": {},
   "source": [
    "We have $\\gamma$, and $\\beta$, so we can get $\\alpha$:"
   ]
  },
  {
   "cell_type": "code",
   "execution_count": null,
   "id": "c670cbd5",
   "metadata": {},
   "outputs": [],
   "source": [
    "gamma_degrees = c_degrees"
   ]
  },
  {
   "cell_type": "code",
   "execution_count": null,
   "id": "14727eb0",
   "metadata": {},
   "outputs": [],
   "source": [
    "omega_degrees = 90 - np.abs(incidence_angle_degrees)\n",
    "omega_radians = np.radians(omega_degrees)"
   ]
  },
  {
   "cell_type": "code",
   "execution_count": null,
   "id": "81ce63fe",
   "metadata": {},
   "outputs": [],
   "source": [
    "phi_degrees = 180 - omega_degrees - gamma_degrees\n",
    "phi_radians = np.radians(phi_degrees)"
   ]
  },
  {
   "cell_type": "markdown",
   "id": "bede2e04",
   "metadata": {},
   "source": [
    "We want to find the length of the linesegment.  Let's use angle-side-angle `ASA`:\n",
    "\n",
    "$$\\frac{\\sin{\\phi}}{A} \\,=\\, \\frac{\\sin{\\omega}}{w} \\,=\\, \\frac{\\sin{\\gamma}}{\\mathrm{undef}}$$\n",
    "\n",
    "solve for $w$:\n",
    "\n",
    "$$w \\,=\\, A \\frac{\\sin{\\omega}}{\\sin{\\phi}}$$\n"
   ]
  },
  {
   "cell_type": "code",
   "execution_count": null,
   "id": "3e08da1e",
   "metadata": {},
   "outputs": [],
   "source": [
    "w_micron = A_micron * np.sin(omega_radians)/np.sin(phi_radians)"
   ]
  },
  {
   "cell_type": "code",
   "execution_count": null,
   "id": "e76c05bc",
   "metadata": {},
   "outputs": [],
   "source": [
    "w_micron"
   ]
  },
  {
   "cell_type": "markdown",
   "id": "1295c5e6",
   "metadata": {},
   "source": [
    "Yay! We did it!"
   ]
  }
 ],
 "metadata": {
  "kernelspec": {
   "display_name": "Python 3 (ipykernel)",
   "language": "python",
   "name": "python3"
  },
  "language_info": {
   "codemirror_mode": {
    "name": "ipython",
    "version": 3
   },
   "file_extension": ".py",
   "mimetype": "text/x-python",
   "name": "python",
   "nbconvert_exporter": "python",
   "pygments_lexer": "ipython3",
   "version": "3.8.11"
  }
 },
 "nbformat": 4,
 "nbformat_minor": 5
}
