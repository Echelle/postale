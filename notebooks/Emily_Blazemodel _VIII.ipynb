{
 "cells": [
  {
   "cell_type": "code",
   "execution_count": 1,
   "metadata": {},
   "outputs": [],
   "source": [
    "import numpy as np\n",
    "import matplotlib.pyplot as plt\n",
    "import math\n",
    "# from astropy.io import ascii\n",
    "import pandas as pd"
   ]
  },
  {
   "cell_type": "code",
   "execution_count": null,
   "metadata": {},
   "outputs": [],
   "source": []
  },
  {
   "cell_type": "markdown",
   "metadata": {},
   "source": [
    "# Now calulcate comb, envelope etc and bake in the new width produced by the adjustment that corresponds to a given blaze discrpancy"
   ]
  },
  {
   "cell_type": "code",
   "execution_count": 2,
   "metadata": {},
   "outputs": [],
   "source": [
    "\n",
    "# wavelength = 0.635/3.4 #in um: IN IMMERSION bc /3.4\n",
    "wavelength = 0.633#in um: not in immersion, test configuration of front reflection\n",
    "# blazeangle = np.deg2rad(76)\n",
    "blazeangle = np.deg2rad(76)\n",
    "\n",
    "groovewidth = 42.43 # width of facets that create the slits in reflection\n",
    "groovespacing = 71.43 #in um for L band ##this is pitch !!!!!\n",
    "beamwidth = 10000#20000 #12400 #in um bc based on laser divergence, probably 12.4 um beam size without beam expander #. 2000um = 2mm ### \n",
    "inputangle = 76 #in degrees\n",
    "inputangle = inputangle*np.pi/180 #in rad\n",
    "\n",
    "outputangle_deg = np.linspace(-95,95,5000000)\n",
    "outputangle_rad = outputangle_deg*np.pi/180"
   ]
  },
  {
   "cell_type": "code",
   "execution_count": 3,
   "metadata": {},
   "outputs": [
    {
     "name": "stderr",
     "output_type": "stream",
     "text": [
      "//anaconda3/lib/python3.7/site-packages/ipykernel_launcher.py:7: RuntimeWarning: invalid value encountered in arcsin\n",
      "  import sys\n"
     ]
    }
   ],
   "source": [
    "###Start by setting up array of all orders m\n",
    "m_vector = np.arange(-135, 135, 1)\n",
    "index=1\n",
    "# m_vector.shape\n",
    "\n",
    "###Now, calulate the diffraction angle for each order\n",
    "diffraction_centers = np.arcsin(np.sin(inputangle)+index*(m_vector*wavelength/groovespacing))\n"
   ]
  },
  {
   "cell_type": "code",
   "execution_count": 4,
   "metadata": {},
   "outputs": [],
   "source": [
    "###Make a mask to get rid of NaNs aka where the grating no longer reflects orders at the far wings\n",
    "mask = np.isfinite(diffraction_centers)\n",
    "\n",
    "###Apply mask to orders array and corresponding diffracted angle array:\n",
    "m_vector = m_vector[mask]\n",
    "diffraction_centers = diffraction_centers[mask]\n",
    "\n",
    "###Broadcast diffracted angle array to a column (transpose):\n",
    "diffraction_column_vector = np.expand_dims(diffraction_centers, 1)"
   ]
  },
  {
   "cell_type": "code",
   "execution_count": 5,
   "metadata": {},
   "outputs": [],
   "source": [
    "#argument for beam diffraction sinc function:\n",
    "argBD = (beamwidth*np.pi/wavelength)*np.sin(outputangle_rad-diffraction_column_vector)\n",
    "#Sinc function then is:\n",
    "BeamDiffraction = (np.sin(argBD)/argBD)**2\n",
    "\n",
    "n_orders = len(m_vector)\n"
   ]
  },
  {
   "cell_type": "code",
   "execution_count": 6,
   "metadata": {},
   "outputs": [
    {
     "data": {
      "text/plain": [
       "(0, 80)"
      ]
     },
     "execution_count": 6,
     "metadata": {},
     "output_type": "execute_result"
    },
    {
     "data": {
      "image/png": "[encoded data removed]",
      "text/plain": [
       "<Figure size 864x288 with 1 Axes>"
      ]
     },
     "metadata": {
      "needs_background": "light"
     },
     "output_type": "display_data"
    }
   ],
   "source": [
    "### Plot all the orders (the comb) in unblazed diffraction:\n",
    "total_unblazed_diffraction = BeamDiffraction.sum(0) ######not sure what is happening here\n",
    "\n",
    "# %matplotlib inline\n",
    "# import mpld3\n",
    "# mpld3.enable_notebook()\n",
    "\n",
    "plt.figure(figsize=(12, 4))\n",
    "plt.plot(outputangle_rad*180/math.pi,total_unblazed_diffraction,color = 'blue');\n",
    "plt.xlabel('Degrees',fontsize = 15)\n",
    "plt.title('Un-blazed diffraction comb',fontsize = 15)\n",
    "plt.ylabel('Normalized Intensity',fontsize = 15)\n",
    "# plt.plot(outputangle_rad*180/math.pi,BlazeEnvelope); ##may need to run whole code before this line is plottable\n",
    "#plt.title('beam diffraction for m ={}'.format(m))\n",
    "plt.xlim(0,80)\n",
    "\n"
   ]
  },
  {
   "cell_type": "code",
   "execution_count": null,
   "metadata": {},
   "outputs": [],
   "source": [
    "\n"
   ]
  },
  {
   "cell_type": "markdown",
   "metadata": {},
   "source": [
    "### Now add blaze and multiply comb by blaze envelope"
   ]
  },
  {
   "cell_type": "code",
   "execution_count": 7,
   "metadata": {},
   "outputs": [],
   "source": [
    "# ########################################### Enable in notebook zooming:\n",
    "# %matplotlib inline\n",
    "# import mpld3\n",
    "# mpld3.enable_notebook()\n",
    "# ###########################################"
   ]
  },
  {
   "cell_type": "code",
   "execution_count": 8,
   "metadata": {},
   "outputs": [
    {
     "data": {
      "text/plain": [
       "75.99999999999999"
      ]
     },
     "execution_count": 8,
     "metadata": {},
     "output_type": "execute_result"
    }
   ],
   "source": [
    "np.rad2deg(inputangle)"
   ]
  },
  {
   "cell_type": "code",
   "execution_count": 9,
   "metadata": {},
   "outputs": [
    {
     "data": {
      "text/plain": [
       "42.43"
      ]
     },
     "execution_count": 9,
     "metadata": {},
     "output_type": "execute_result"
    }
   ],
   "source": [
    "groovewidth"
   ]
  },
  {
   "cell_type": "code",
   "execution_count": 10,
   "metadata": {},
   "outputs": [
    {
     "name": "stdout",
     "output_type": "stream",
     "text": [
      "42.43\n",
      "14.000000000000014\n",
      "0.9702957262759965\n"
     ]
    },
    {
     "data": {
      "text/plain": [
       "41.16964766589053"
      ]
     },
     "execution_count": 10,
     "metadata": {},
     "output_type": "execute_result"
    }
   ],
   "source": [
    "##account for the projection of the groove width being smaller at some alpha > 0\n",
    "\n",
    "##if we want to use the geometrical projection\n",
    "print(groovewidth)\n",
    "print(90-np.rad2deg(inputangle))\n",
    "print(np.cos(np.deg2rad(90)-inputangle))\n",
    "\n",
    "groovewidth = groovewidth*np.cos(np.deg2rad(90)-inputangle)\n",
    "\n",
    "##if we want to use the illuminated groove face (which is in principle very similar to the wdith of the geometrical projection)\n",
    "## it is also worth noting that the \n",
    "\n",
    "groovewidth"
   ]
  },
  {
   "cell_type": "code",
   "execution_count": 11,
   "metadata": {},
   "outputs": [],
   "source": [
    "# %%html\n",
    "# <img src=\"../grooveprojection.png\" width=300></img>"
   ]
  },
  {
   "cell_type": "code",
   "execution_count": 12,
   "metadata": {},
   "outputs": [],
   "source": [
    "##arg for blaze envelope sinc function:\n",
    "\n",
    "argBEE = (groovewidth*np.pi/wavelength)*np.sin(outputangle_rad-blazeangle)\n",
    "\n",
    "##sinc function to describe the blaze envelope:\n",
    "BlazeEnvelopeE = (np.sin(argBEE)/argBEE)**2\n"
   ]
  },
  {
   "cell_type": "code",
   "execution_count": 13,
   "metadata": {},
   "outputs": [],
   "source": [
    "## multiply blaze envelope (mine, denoted '-E', and Engman's) with unblazed comb of orders:\n",
    "total_blazed_diffractionE = total_unblazed_diffraction * BlazeEnvelopeE\n"
   ]
  },
  {
   "cell_type": "code",
   "execution_count": 14,
   "metadata": {},
   "outputs": [],
   "source": [
    "#To compare to a blaze envelope that does not include the projection, reset 'groovewdith' to original and calculate to plot\n",
    "groovewidth = 42.43\n",
    "argBEEX = (groovewidth*np.pi/wavelength)*np.sin(outputangle_rad-blazeangle)\n",
    "BlazeEnvelopeEX = (np.sin(argBEEX)/argBEEX)**2\n",
    "total_blazed_diffractionEX = total_unblazed_diffraction * BlazeEnvelopeEX\n",
    "\n",
    "#could also do this for h with the complicated geomatry to show how h and the simple projection are the same at \n",
    "#littrow and increaasingly different as alpha deviates from blaze angle\n"
   ]
  },
  {
   "cell_type": "code",
   "execution_count": 15,
   "metadata": {},
   "outputs": [],
   "source": [
    "#could also do this for h with the complicated geomatry to show how h and the simple projection are the same at \n",
    "#littrow and increaasingly different as alpha deviates from blaze angle\n",
    "\n",
    "groovewidthH = 42.43\n",
    "#the following decription was derived with Gully 02022022. Notes in lab notebook.\n",
    "groovewidthH = groovewidthH*(np.sin(np.deg2rad(90)-inputangle))/(np.sin(np.deg2rad(180-(90-inputangle)-blazeangle)))\n",
    "argBEEH = (groovewidth*np.pi/wavelength)*np.sin(outputangle_rad-blazeangle)\n",
    "BlazeEnvelopeEH = (np.sin(argBEEH)/argBEEH)**2\n",
    "total_blazed_diffractionEH = total_unblazed_diffraction * BlazeEnvelopeEH\n"
   ]
  },
  {
   "cell_type": "code",
   "execution_count": 16,
   "metadata": {},
   "outputs": [
    {
     "data": {
      "text/plain": [
       "(70, 85)"
      ]
     },
     "execution_count": 16,
     "metadata": {},
     "output_type": "execute_result"
    },
    {
     "data": {
      "image/png": "[encoded data removed]",
      "text/plain": [
       "<Figure size 2160x360 with 1 Axes>"
      ]
     },
     "metadata": {
      "needs_background": "light"
     },
     "output_type": "display_data"
    }
   ],
   "source": [
    "fig = plt.figure(figsize=(30,5))\n",
    "ax1 = fig.add_subplot(121)\n",
    "\n",
    "ax1.plot(outputangle_rad*180/math.pi,BlazeEnvelopeE, color ='orange', linewidth=3.0, label='Including cos projection');\n",
    "ax1.plot(outputangle_rad*180/math.pi,BlazeEnvelopeEX, color ='blue', linewidth=3.0,label='without cosin projection');\n",
    "ax1.plot(outputangle_rad*180/math.pi,BlazeEnvelopeEH, color ='green', linewidth=3.0,label='illuminated surface');\n",
    "plt.title('Blaze Envelope'.format(np.rad2deg(blazeangle)),size = 15)\n",
    "plt.xlabel('degrees',size = 16)\n",
    "plt.ylabel('intensity',size = 16)\n",
    "plt.grid(linestyle='-', linewidth=1)\n",
    "plt.legend(loc = 'upper right')\n",
    "\n",
    "plt.xlim(70,85)\n"
   ]
  },
  {
   "cell_type": "code",
   "execution_count": 17,
   "metadata": {},
   "outputs": [],
   "source": [
    "# fig = plt.figure(figsize=(30,5))\n",
    "# ax1 = fig.add_subplot(121)\n",
    "\n",
    "# ax1.plot(outputangle_rad*180/math.pi,BlazeEnvelopeE, color ='orange', linewidth=5.0);\n",
    "# plt.title('Blaze Envelope'.format(np.rad2deg(blazeangle)),size = 15)\n",
    "# plt.grid(linestyle='-', linewidth=1)\n",
    "# plt.xlabel('degrees',size = 16)\n",
    "# plt.ylabel('intensity',size = 16)\n",
    "# plt.xlim(70,85)\n"
   ]
  },
  {
   "cell_type": "code",
   "execution_count": 17,
   "metadata": {},
   "outputs": [],
   "source": [
    "# plt.figure(figsize=(16, 7))\n",
    "# # plt.plot(outputangle_rad*180/math.pi,total_blazed_diffraction);\n",
    "# plt.plot(outputangle_rad*180/math.pi,BlazeEnvelope, color ='orange', linewidth=5.0);\n",
    "# plt.xlabel('Output [Degrees]',size = 15)\n",
    "# plt.xticks(size = 15)\n",
    "\n",
    "# plt.grid(linestyle='-', linewidth=1)\n",
    "\n",
    "# # plt.title('beam diffraction for m ={}'.format(m))\n",
    "# plt.title('Engmans Blaze Envelope for blaze = {} degrees'.format(np.rad2deg(blazeangle)),size = 15)\n",
    "# plt.ylabel('Normalized Intensity',size = 15)\n",
    "# plt.yticks(size = 15)\n",
    "\n",
    "# # plt.xlim(65,85)\n"
   ]
  },
  {
   "cell_type": "code",
   "execution_count": 18,
   "metadata": {},
   "outputs": [
    {
     "data": {
      "text/plain": [
       "(65, 85)"
      ]
     },
     "execution_count": 18,
     "metadata": {},
     "output_type": "execute_result"
    },
    {
     "data": {
      "image/png": "[encoded data removed]",
      "text/plain": [
       "<Figure size 1440x504 with 1 Axes>"
      ]
     },
     "metadata": {
      "needs_background": "light"
     },
     "output_type": "display_data"
    }
   ],
   "source": [
    "plt.figure(figsize=(20, 7))\n",
    "plt.plot(outputangle_rad*180/math.pi,total_blazed_diffractionE, linewidth=3.0);\n",
    "plt.plot(outputangle_rad*180/math.pi,BlazeEnvelopeE,linewidth=5.0);\n",
    "plt.xlabel('degrees',size = 16)\n",
    "plt.ylabel('intensity',size = 16)\n",
    "\n",
    "plt.grid(linestyle='-', linewidth=1)\n",
    "\n",
    "#plt.title('beam diffraction for m ={}'.format(m))\n",
    "plt.xlim(65,85)"
   ]
  },
  {
   "cell_type": "markdown",
   "metadata": {},
   "source": [
    "# Comparing data to model"
   ]
  },
  {
   "cell_type": "code",
   "execution_count": 19,
   "metadata": {},
   "outputs": [
    {
     "data": {
      "image/png": "[encoded data removed]",
      "text/plain": [
       "<Figure size 720x360 with 1 Axes>"
      ]
     },
     "metadata": {
      "needs_background": "light"
     },
     "output_type": "display_data"
    }
   ],
   "source": [
    "plt.figure(figsize=(10,5))\n",
    "df = pd.read_csv(\"experiment01.txt\", delimiter=\"\\t\",skiprows = 3) #names=[\"A\", \"B\"])\n",
    "df.columns = [\"Pixel\", \"Counts\", \"Ncounts\", \"nothing\"]\n",
    "plt.xlabel('pixels',size = 16)\n",
    "plt.ylabel('intensity',size = 16)\n",
    "plt.scatter(df['Pixel'], df['Ncounts'])\n",
    "# plt.yscale(\"log\")\n",
    "plt.show()"
   ]
  },
  {
   "cell_type": "markdown",
   "metadata": {},
   "source": [
    "plotting data above against the model:"
   ]
  },
  {
   "cell_type": "markdown",
   "metadata": {},
   "source": [
    "pixel scale should be:"
   ]
  },
  {
   "cell_type": "code",
   "execution_count": 29,
   "metadata": {},
   "outputs": [
    {
     "name": "stdout",
     "output_type": "stream",
     "text": [
      "1.9556959407132097\n",
      "0.0038197186342054878 degrees/pixel\n",
      "261.79938779914943 pixels/degree\n"
     ]
    }
   ],
   "source": [
    "pixsize = 9/1000 #mm\n",
    "focallen = 135 #mm\n",
    "numberpixels = 512#1536 #number of 9um pixels across array\n",
    "\n",
    "platescale = pixsize/focallen\n",
    "noDegacrossarrayface = np.rad2deg(platescale)*numberpixels\n",
    "# noDegacrossarrayface\n",
    "\n",
    "# # 130/76\n",
    "print(np.rad2deg(platescale), 'degrees/pixel')\n",
    "print(1/np.rad2deg(platescale), 'pixels/degree')"
   ]
  },
  {
   "cell_type": "code",
   "execution_count": 27,
   "metadata": {},
   "outputs": [
    {
     "data": {
      "image/png": "[encoded data removed]",
      "text/plain": [
       "<Figure size 2160x360 with 1 Axes>"
      ]
     },
     "metadata": {
      "needs_background": "light"
     },
     "output_type": "display_data"
    }
   ],
   "source": [
    "#Then plot them together:\n",
    "fig = plt.figure(figsize=(30,5))\n",
    "ax1 = fig.add_subplot(121)\n",
    "\n",
    "#include plate scale:\n",
    "pixelsperdegree = np.rad2deg(platescale)\n",
    "#Include offset: Blaze - (degrees/array)/2:\n",
    "offset = 76 - (noDegacrossarrayface/2)\n",
    "\n",
    "ax1.scatter((df['Pixel']*pixelsperdegree)+offset, df['Ncounts'], label = 'real data')\n",
    "ax1.plot(outputangle_rad*180/math.pi,BlazeEnvelopeE, color ='orange', linewidth=5.0,label = 'theoretical model');\n",
    "plt.xlim(70,85)\n",
    "plt.legend(loc='upper right');\n",
    "plt.show()"
   ]
  },
  {
   "cell_type": "code",
   "execution_count": null,
   "metadata": {},
   "outputs": [],
   "source": [
    "\n"
   ]
  },
  {
   "cell_type": "markdown",
   "metadata": {},
   "source": [
    "Normalizing my own data w/o excel: (WIP)"
   ]
  },
  {
   "cell_type": "code",
   "execution_count": 22,
   "metadata": {},
   "outputs": [],
   "source": [
    "# plt.figure(figsize=(15,10))\n",
    "# df = pd.read_csv(\"experiment03.txt\", delimiter=\"\\t\",skiprows = 3)\n",
    "# df.columns = [\"Pixel\", \"Value\"]\n",
    "\n",
    "# minimum = df['Value'].min()\n",
    "# maximum = df['Value'].max()\n",
    "\n",
    "# new = df['Value']-minimum/maximum\n",
    "# minimum\n",
    "# df['Value']\n",
    "# # maximum\n",
    "# new\n",
    "\n",
    "# plt.scatter(df['Pixel'], new) ##why isnt this normalizing????\n",
    "# plt.show()"
   ]
  },
  {
   "cell_type": "code",
   "execution_count": 23,
   "metadata": {},
   "outputs": [],
   "source": [
    "# df['Value']"
   ]
  },
  {
   "cell_type": "code",
   "execution_count": 24,
   "metadata": {},
   "outputs": [],
   "source": [
    "# new = df['Value']-minimum/maximum"
   ]
  },
  {
   "cell_type": "code",
   "execution_count": 25,
   "metadata": {},
   "outputs": [],
   "source": [
    "# df['Value']"
   ]
  },
  {
   "cell_type": "code",
   "execution_count": null,
   "metadata": {},
   "outputs": [],
   "source": []
  },
  {
   "cell_type": "code",
   "execution_count": null,
   "metadata": {},
   "outputs": [],
   "source": []
  },
  {
   "cell_type": "code",
   "execution_count": null,
   "metadata": {},
   "outputs": [],
   "source": []
  },
  {
   "cell_type": "code",
   "execution_count": null,
   "metadata": {},
   "outputs": [],
   "source": []
  },
  {
   "cell_type": "code",
   "execution_count": null,
   "metadata": {},
   "outputs": [],
   "source": []
  },
  {
   "cell_type": "code",
   "execution_count": null,
   "metadata": {},
   "outputs": [],
   "source": []
  },
  {
   "cell_type": "code",
   "execution_count": null,
   "metadata": {},
   "outputs": [],
   "source": []
  },
  {
   "cell_type": "code",
   "execution_count": null,
   "metadata": {},
   "outputs": [],
   "source": []
  },
  {
   "cell_type": "code",
   "execution_count": null,
   "metadata": {},
   "outputs": [],
   "source": []
  },
  {
   "cell_type": "code",
   "execution_count": null,
   "metadata": {},
   "outputs": [],
   "source": []
  },
  {
   "cell_type": "markdown",
   "metadata": {},
   "source": []
  },
  {
   "cell_type": "code",
   "execution_count": null,
   "metadata": {},
   "outputs": [],
   "source": []
  },
  {
   "cell_type": "code",
   "execution_count": null,
   "metadata": {},
   "outputs": [],
   "source": []
  },
  {
   "cell_type": "code",
   "execution_count": null,
   "metadata": {},
   "outputs": [],
   "source": []
  },
  {
   "cell_type": "code",
   "execution_count": null,
   "metadata": {},
   "outputs": [],
   "source": []
  },
  {
   "cell_type": "code",
   "execution_count": null,
   "metadata": {},
   "outputs": [],
   "source": []
  },
  {
   "cell_type": "code",
   "execution_count": null,
   "metadata": {},
   "outputs": [],
   "source": []
  },
  {
   "cell_type": "code",
   "execution_count": null,
   "metadata": {},
   "outputs": [],
   "source": []
  }
 ],
 "metadata": {
  "kernelspec": {
   "display_name": "Python 3",
   "language": "python",
   "name": "python3"
  },
  "language_info": {
   "codemirror_mode": {
    "name": "ipython",
    "version": 3
   },
   "file_extension": ".py",
   "mimetype": "text/x-python",
   "name": "python",
   "nbconvert_exporter": "python",
   "pygments_lexer": "ipython3",
   "version": "3.7.3"
  }
 },
 "nbformat": 4,
 "nbformat_minor": 4
}
